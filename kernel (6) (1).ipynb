{
 "cells": [
  {
   "cell_type": "markdown",
   "metadata": {
    "_uuid": "67f1ef572ea1f522bcdc6a775bf629ee740d87ac"
   },
   "source": [
    "# Microsoft Malware detection\n",
    "\n",
    "In this kernel, I build a LGBM model using only a subset of the training data, in order to fit in memory.\n",
    "\n",
    "## Notebook  Content\n",
    "1. [Utility functions](#0)\n",
    "1. [Loading the data](#1) <br>\n",
    "    2.1 [Get the files and select the variables](#2.1) <br>\n",
    "    2.2 [Define the type of each variable](#2.2)\n",
    "1. [Feature engineering](#2) <br>\n",
    "    3.1 [Frequency encoding](#3.1) <br>\n",
    "    3.2 [Label encoding](#3.2)\n",
    "1. [Training the model](#3)\n",
    "1. [Feature importance](#4)\n",
    "1. [Submission](#5)"
   ]
  },
  {
   "cell_type": "markdown",
   "metadata": {
    "_uuid": "3fc9d6b2803d88673e9455315e823b1407f7ff0f"
   },
   "source": [
    "<a id=\"0\"></a> <br>\n",
    "## 1. Utility functions\n",
    "Before starting, we define a utility function that helps managing memory."
   ]
  },
  {
   "cell_type": "code",
   "execution_count": 1,
   "metadata": {
    "_kg_hide-input": true,
    "_uuid": "9a15f134e550358f13e0f3b937e759ed48fd23d9"
   },
   "outputs": [],
   "source": [
    "def reduce_mem_usage(df, verbose=True):\n",
    "    numerics = ['int16', 'int32', 'int64', 'float16', 'float32', 'float64']\n",
    "    start_mem = df.memory_usage().sum() / 1024**2    \n",
    "    for col in df.columns:\n",
    "        col_type = df[col].dtypes\n",
    "        if col_type in numerics:\n",
    "            c_min = df[col].min()\n",
    "            c_max = df[col].max()\n",
    "            if str(col_type)[:3] == 'int':\n",
    "                if c_min > np.iinfo(np.int8).min and c_max < np.iinfo(np.int8).max:\n",
    "                    df[col] = df[col].astype(np.int8)\n",
    "                elif c_min > np.iinfo(np.int16).min and c_max < np.iinfo(np.int16).max:\n",
    "                    df[col] = df[col].astype(np.int16)\n",
    "                elif c_min > np.iinfo(np.int32).min and c_max < np.iinfo(np.int32).max:\n",
    "                    df[col] = df[col].astype(np.int32)\n",
    "                elif c_min > np.iinfo(np.int64).min and c_max < np.iinfo(np.int64).max:\n",
    "                    df[col] = df[col].astype(np.int64)  \n",
    "            else:\n",
    "                if c_min > np.finfo(np.float16).min and c_max < np.finfo(np.float16).max:\n",
    "                    df[col] = df[col].astype(np.float16)\n",
    "                elif c_min > np.finfo(np.float32).min and c_max < np.finfo(np.float32).max:\n",
    "                    df[col] = df[col].astype(np.float32)\n",
    "                else:\n",
    "                    df[col] = df[col].astype(np.float64)    \n",
    "    end_mem = df.memory_usage().sum() / 1024**2\n",
    "    if verbose: print('Mem. usage decreased to {:5.2f} Mb ({:.1f}% reduction)'.format(end_mem, 100 * (start_mem - end_mem) / start_mem))\n",
    "    return df"
   ]
  },
  {
   "cell_type": "markdown",
   "metadata": {
    "_uuid": "ea005def562ae65202ec9322bec60fd25a1961e1"
   },
   "source": [
    "<a id=\"1\"></a> <br>\n",
    "## 2. Loading the data"
   ]
  },
  {
   "cell_type": "code",
   "execution_count": 2,
   "metadata": {
    "_cell_guid": "b1076dfc-b9ad-4769-8c92-a6c4dae69d19",
    "_uuid": "8f2839f25d086af736a60e9eeb907d3b93b6e0e5"
   },
   "outputs": [
    {
     "data": {
      "text/html": [
       "<script type=\"text/javascript\">window.PlotlyConfig = {MathJaxConfig: 'local'};</script><script type=\"text/javascript\">if (window.MathJax) {MathJax.Hub.Config({SVG: {font: \"STIX-Web\"}});}</script><script>requirejs.config({paths: { 'plotly': ['https://cdn.plot.ly/plotly-latest.min']},});if(!window._Plotly) {require(['plotly'],function(plotly) {window._Plotly=plotly;});}</script>"
      ],
      "text/vnd.plotly.v1+html": [
       "<script type=\"text/javascript\">window.PlotlyConfig = {MathJaxConfig: 'local'};</script><script type=\"text/javascript\">if (window.MathJax) {MathJax.Hub.Config({SVG: {font: \"STIX-Web\"}});}</script><script>requirejs.config({paths: { 'plotly': ['https://cdn.plot.ly/plotly-latest.min']},});if(!window._Plotly) {require(['plotly'],function(plotly) {window._Plotly=plotly;});}</script>"
      ]
     },
     "metadata": {},
     "output_type": "display_data"
    }
   ],
   "source": [
    "\n",
    "\n",
    "import numpy as np \n",
    "import pandas as pd \n",
    "import matplotlib.pyplot as plt\n",
    "import seaborn as sns\n",
    "import lightgbm as lgb\n",
    "from sklearn.model_selection import KFold\n",
    "import warnings\n",
    "import gc\n",
    "import time\n",
    "import sys\n",
    "import datetime\n",
    "import matplotlib.pyplot as plt\n",
    "import seaborn as sns\n",
    "from tqdm import tqdm\n",
    "from sklearn.metrics import mean_squared_error\n",
    "warnings.simplefilter(action='ignore', category=FutureWarning)\n",
    "warnings.filterwarnings('ignore')\n",
    "warnings.simplefilter('ignore')\n",
    "from sklearn import metrics\n",
    "# Plotly library\n",
    "from plotly.offline import download_plotlyjs, init_notebook_mode, plot, iplot\n",
    "import plotly.graph_objs as go\n",
    "from plotly import tools\n",
    "import plotly.plotly as py\n",
    "init_notebook_mode(connected=True)\n",
    "pd.set_option('display.max_columns', 500)"
   ]
  },
  {
   "cell_type": "markdown",
   "metadata": {
    "_uuid": "5568d0ede96997c2809e883d5c39cc20b1d8c37c"
   },
   "source": [
    "<a id=\"2.1\"></a> <br>\n",
    "### 2.1 Get the files and select the variables\n",
    "Following [Theo Viel](https://www.kaggle.com/theoviel/load-the-totality-of-the-data), we set the types of each fields in the train set in order to reduce the memory usage:"
   ]
  },
  {
   "cell_type": "code",
   "execution_count": 3,
   "metadata": {
    "_kg_hide-input": true,
    "_uuid": "b91444fc96ca462398820c2ba54bccd7b4bf4d03"
   },
   "outputs": [],
   "source": [
    "dtypes = {\n",
    "        'MachineIdentifier':                                    'category',\n",
    "        'ProductName':                                          'category',\n",
    "        'EngineVersion':                                        'category',\n",
    "        'AppVersion':                                           'category',\n",
    "        'AvSigVersion':                                         'category',\n",
    "        'IsBeta':                                               'int8',\n",
    "        'RtpStateBitfield':                                     'float16',\n",
    "        'IsSxsPassiveMode':                                     'int8',\n",
    "        'DefaultBrowsersIdentifier':                            'float16',\n",
    "        'AVProductStatesIdentifier':                            'float32',\n",
    "        'AVProductsInstalled':                                  'float16',\n",
    "        'AVProductsEnabled':                                    'float16',\n",
    "        'HasTpm':                                               'int8',\n",
    "        'CountryIdentifier':                                    'int16',\n",
    "        'CityIdentifier':                                       'float32',\n",
    "        'OrganizationIdentifier':                               'float16',\n",
    "        'GeoNameIdentifier':                                    'float16',\n",
    "        'LocaleEnglishNameIdentifier':                          'int8',\n",
    "        'Platform':                                             'category',\n",
    "        'Processor':                                            'category',\n",
    "        'OsVer':                                                'category',\n",
    "        'OsBuild':                                              'int16',\n",
    "        'OsSuite':                                              'int16',\n",
    "        'OsPlatformSubRelease':                                 'category',\n",
    "        'OsBuildLab':                                           'category',\n",
    "        'SkuEdition':                                           'category',\n",
    "        'IsProtected':                                          'float16',\n",
    "        'AutoSampleOptIn':                                      'int8',\n",
    "        'PuaMode':                                              'category',\n",
    "        'SMode':                                                'float16',\n",
    "        'IeVerIdentifier':                                      'float16',\n",
    "        'SmartScreen':                                          'category',\n",
    "        'Firewall':                                             'float16',\n",
    "        'UacLuaenable':                                         'float32',\n",
    "        'Census_MDC2FormFactor':                                'category',\n",
    "        'Census_DeviceFamily':                                  'category',\n",
    "        'Census_OEMNameIdentifier':                             'float16',\n",
    "        'Census_OEMModelIdentifier':                            'float32',\n",
    "        'Census_ProcessorCoreCount':                            'float16',\n",
    "        'Census_ProcessorManufacturerIdentifier':               'float16',\n",
    "        'Census_ProcessorModelIdentifier':                      'float16',\n",
    "        'Census_ProcessorClass':                                'category',\n",
    "        'Census_PrimaryDiskTotalCapacity':                      'float32',\n",
    "        'Census_PrimaryDiskTypeName':                           'category',\n",
    "        'Census_SystemVolumeTotalCapacity':                     'float32',\n",
    "        'Census_HasOpticalDiskDrive':                           'int8',\n",
    "        'Census_TotalPhysicalRAM':                              'float32',\n",
    "        'Census_ChassisTypeName':                               'category',\n",
    "        'Census_InternalPrimaryDiagonalDisplaySizeInInches':    'float16',\n",
    "        'Census_InternalPrimaryDisplayResolutionHorizontal':    'float16',\n",
    "        'Census_InternalPrimaryDisplayResolutionVertical':      'float16',\n",
    "        'Census_PowerPlatformRoleName':                         'category',\n",
    "        'Census_InternalBatteryType':                           'category',\n",
    "        'Census_InternalBatteryNumberOfCharges':                'float32',\n",
    "        'Census_OSVersion':                                     'category',\n",
    "        'Census_OSArchitecture':                                'category',\n",
    "        'Census_OSBranch':                                      'category',\n",
    "        'Census_OSBuildNumber':                                 'int16',\n",
    "        'Census_OSBuildRevision':                               'int32',\n",
    "        'Census_OSEdition':                                     'category',\n",
    "        'Census_OSSkuName':                                     'category',\n",
    "        'Census_OSInstallTypeName':                             'category',\n",
    "        'Census_OSInstallLanguageIdentifier':                   'float16',\n",
    "        'Census_OSUILocaleIdentifier':                          'int16',\n",
    "        'Census_OSWUAutoUpdateOptionsName':                     'category',\n",
    "        'Census_IsPortableOperatingSystem':                     'int8',\n",
    "        'Census_GenuineStateName':                              'category',\n",
    "        'Census_ActivationChannel':                             'category',\n",
    "        'Census_IsFlightingInternal':                           'float16',\n",
    "        'Census_IsFlightsDisabled':                             'float16',\n",
    "        'Census_FlightRing':                                    'category',\n",
    "        'Census_ThresholdOptIn':                                'float16',\n",
    "        'Census_FirmwareManufacturerIdentifier':                'float16',\n",
    "        'Census_FirmwareVersionIdentifier':                     'float32',\n",
    "        'Census_IsSecureBootEnabled':                           'int8',\n",
    "        'Census_IsWIMBootEnabled':                              'float16',\n",
    "        'Census_IsVirtualDevice':                               'float16',\n",
    "        'Census_IsTouchEnabled':                                'int8',\n",
    "        'Census_IsPenCapable':                                  'int8',\n",
    "        'Census_IsAlwaysOnAlwaysConnectedCapable':              'float16',\n",
    "        'Wdft_IsGamer':                                         'float16',\n",
    "        'Wdft_RegionIdentifier':                                'float16',\n",
    "        'HasDetections':                                        'int8'\n",
    "        }\n"
   ]
  },
  {
   "cell_type": "markdown",
   "metadata": {
    "_uuid": "ba5573cfaec6625aed13e98c6e034809e2997b5b"
   },
   "source": [
    "First, we make a census of the variables, by type, and define the set we want to keep before reading the data:"
   ]
  },
  {
   "cell_type": "code",
   "execution_count": 4,
   "metadata": {
    "_uuid": "057a508919fad540d226da391cff358b85556b74"
   },
   "outputs": [],
   "source": [
    "numerics = ['int8', 'int16', 'int32', 'int64', 'float16', 'float32', 'float64']\n",
    "numerical_columns = [c for c,v in dtypes.items() if v in numerics]\n",
    "categorical_columns = [c for c,v in dtypes.items() if v not in numerics]"
   ]
  },
  {
   "cell_type": "code",
   "execution_count": 5,
   "metadata": {
    "_uuid": "f9ad27fd34531a551b178552ba328c234daec5a0"
   },
   "outputs": [],
   "source": [
    "dcols =['MachineIdentifier','Platform','Census_ProcessorClass','OsPlatformSubRelease','Census_IsPortableOperatingSystem',\n",
    " 'HasTpm','Census_IsPenCapable','ProductName','Census_IsFlightsDisabled',\n",
    " 'Census_FlightRing','UacLuaenable','Census_DeviceFamily',\n",
    " 'PuaMode','IsBeta', 'AutoSampleOptIn']"
   ]
  },
  {
   "cell_type": "markdown",
   "metadata": {
    "_uuid": "23a93bf7ad302d8fe733b9d70de5eed27945979d"
   },
   "source": [
    "We read the data, limiting the size of the training set to 4'000'000 rows:"
   ]
  },
  {
   "cell_type": "code",
   "execution_count": 6,
   "metadata": {
    "_cell_guid": "79c7e3d0-c299-4dcb-8224-4455121ee9b0",
    "_uuid": "d629ff2d2480ee46fbb7e2d37f6b5fab8052498a"
   },
   "outputs": [
    {
     "name": "stdout",
     "output_type": "stream",
     "text": [
      "Wall time: 34 s\n"
     ]
    }
   ],
   "source": [
    "%%time\n",
    "nrows = 500000\n",
    "#_______________________________________________________________________________\n",
    "retained_columns = numerical_columns + categorical_columns\n",
    "#retained_columns = [c for c in retained_columns if c not in dcols]\n",
    "train = pd.read_csv('I:\\Data/train.csv',\n",
    "                    nrows = nrows,\n",
    "                    usecols = retained_columns,\n",
    "                    dtype = dtypes)"
   ]
  },
  {
   "cell_type": "code",
   "execution_count": 7,
   "metadata": {
    "_uuid": "ceb217e8a1f073742f0bcbf993af21e24d3552e9"
   },
   "outputs": [
    {
     "data": {
      "text/plain": [
       "13272"
      ]
     },
     "execution_count": 7,
     "metadata": {},
     "output_type": "execute_result"
    }
   ],
   "source": [
    "gc.collect()"
   ]
  },
  {
   "cell_type": "markdown",
   "metadata": {
    "_uuid": "123fe175bb92d7262b33649b1aa3619bad28b577"
   },
   "source": [
    "<a id=\"2.2\"></a> <br>\n",
    "### 2.2 Define the type of each variable\n",
    "In practice, among the numerical variables, many corresponds to identifiers. *In the current dataset, the truly numerical variables are in fact rare*. Below, I make a list of the variables which are truly numerical, according the the description of the data."
   ]
  },
  {
   "cell_type": "code",
   "execution_count": 8,
   "metadata": {
    "_uuid": "1485ef0a5822d9c0064e39f6b94977d336dd3698"
   },
   "outputs": [],
   "source": [
    "true_numerical_columns = [\n",
    "    'Census_ProcessorCoreCount',\n",
    "    'Census_PrimaryDiskTotalCapacity',\n",
    "    'Census_SystemVolumeTotalCapacity',\n",
    "    'Census_TotalPhysicalRAM',\n",
    "    'Census_InternalPrimaryDiagonalDisplaySizeInInches',\n",
    "    'Census_InternalPrimaryDisplayResolutionHorizontal',\n",
    "    'Census_InternalPrimaryDisplayResolutionVertical',\n",
    "    'Census_InternalBatteryNumberOfCharges'\n",
    "]\n"
   ]
  },
  {
   "cell_type": "markdown",
   "metadata": {
    "_uuid": "837cc82ceb02e7dcb519542f7bead3299c1e0761"
   },
   "source": [
    "We also list binary variables, since they can be treated as numericals by tree methods:"
   ]
  },
  {
   "cell_type": "code",
   "execution_count": 9,
   "metadata": {
    "_uuid": "8bcb5afe9e9f6501f0f4f509d7c140617b259f69"
   },
   "outputs": [],
   "source": [
    "binary_variables = [c for c in train.columns if train[c].nunique() == 2]"
   ]
  },
  {
   "cell_type": "markdown",
   "metadata": {
    "_uuid": "746df3e5496acba451e89a05f75042e7ef5ddcd8"
   },
   "source": [
    "to finally make a census of the categorical variables:"
   ]
  },
  {
   "cell_type": "code",
   "execution_count": 10,
   "metadata": {
    "_uuid": "7f249c89e5deee0e36a0983ec6c2ab934ee13a8c"
   },
   "outputs": [],
   "source": [
    "categorical_columns = [c for c in train.columns \n",
    "                       if (c not in true_numerical_columns) & (c not in binary_variables)]"
   ]
  },
  {
   "cell_type": "markdown",
   "metadata": {},
   "source": [
    "### 2.3 Exploratory Data Analysis\n",
    "\n",
    "First, let's examine the distribution of data types in the dataset."
   ]
  },
  {
   "cell_type": "code",
   "execution_count": 11,
   "metadata": {
    "_kg_hide-input": true,
    "_uuid": "02a03355068b80bd404dc6c34f95ded2b138e344"
   },
   "outputs": [
    {
     "data": {
      "application/vnd.plotly.v1+json": {
       "config": {
        "linkText": "Export to plot.ly",
        "plotlyServerURL": "https://plot.ly",
        "showLink": true
       },
       "data": [
        {
         "labels": [
          "categorical_columns",
          "binary_variables",
          "true_numerical_columns"
         ],
         "type": "pie",
         "uid": "57c82156-9c26-4a11-90ce-db9a95e7da5e",
         "values": [
          55,
          20,
          8
         ]
        }
       ],
       "layout": {
        "height": 400,
        "title": "Variable types",
        "width": 800
       }
      },
      "text/html": [
       "<div id=\"01b179a0-715f-465a-8b34-e02dee781ffe\" style=\"height: 400px; width: 800px;\" class=\"plotly-graph-div\"></div><script type=\"text/javascript\">require([\"plotly\"], function(Plotly) { window.PLOTLYENV=window.PLOTLYENV || {};window.PLOTLYENV.BASE_URL=\"https://plot.ly\";Plotly.newPlot(\"01b179a0-715f-465a-8b34-e02dee781ffe\", [{\"labels\": [\"categorical_columns\", \"binary_variables\", \"true_numerical_columns\"], \"values\": [55, 20, 8], \"type\": \"pie\", \"uid\": \"60f42b3a-45f9-4d9b-9051-e6fb66ccc7c7\"}], {\"height\": 400, \"title\": \"Variable types\", \"width\": 800}, {\"showLink\": true, \"linkText\": \"Export to plot.ly\", \"plotlyServerURL\": \"https://plot.ly\"})});</script>"
      ],
      "text/vnd.plotly.v1+html": [
       "<div id=\"01b179a0-715f-465a-8b34-e02dee781ffe\" style=\"height: 400px; width: 800px;\" class=\"plotly-graph-div\"></div><script type=\"text/javascript\">require([\"plotly\"], function(Plotly) { window.PLOTLYENV=window.PLOTLYENV || {};window.PLOTLYENV.BASE_URL=\"https://plot.ly\";Plotly.newPlot(\"01b179a0-715f-465a-8b34-e02dee781ffe\", [{\"labels\": [\"categorical_columns\", \"binary_variables\", \"true_numerical_columns\"], \"values\": [55, 20, 8], \"type\": \"pie\", \"uid\": \"60f42b3a-45f9-4d9b-9051-e6fb66ccc7c7\"}], {\"height\": 400, \"title\": \"Variable types\", \"width\": 800}, {\"showLink\": true, \"linkText\": \"Export to plot.ly\", \"plotlyServerURL\": \"https://plot.ly\"})});</script>"
      ]
     },
     "metadata": {},
     "output_type": "display_data"
    }
   ],
   "source": [
    "variables = {\n",
    "    'categorical_columns': len(categorical_columns),\n",
    "    'binary_variables': len(binary_variables),\n",
    "    'true_numerical_columns': len(true_numerical_columns)\n",
    "}\n",
    "pie_trace = go.Pie(labels=list(variables.keys()), values=list(variables.values()))\n",
    "layout = dict(title= \"Variable types\", height=400, width=800)\n",
    "fig = dict(data=[pie_trace], layout=layout)\n",
    "iplot(fig)"
   ]
  },
  {
   "cell_type": "markdown",
   "metadata": {
    "_uuid": "ad51d7daad193e0dab467f82dfad4c7ce7876d56"
   },
   "source": [
    "Most of the current variables are categories and we need to choose a method to treat them. **Depending on the cardinality of each variable**, we can opt for** one-hot-encoding, frequency or target encoding**. In the particular case of Light-GBM, we can also use the **built-in LGBM treatment of categoricals**:"
   ]
  },
  {
   "cell_type": "code",
   "execution_count": 12,
   "metadata": {
    "_kg_hide-input": true,
    "_uuid": "bf2a4a2490650a68ca65991e08a0f6975a549102"
   },
   "outputs": [
    {
     "data": {
      "application/vnd.plotly.v1+json": {
       "config": {
        "linkText": "Export to plot.ly",
        "plotlyServerURL": "https://plot.ly",
        "showLink": true
       },
       "data": [
        {
         "marker": {
          "color": "rgb(49,130,189)"
         },
         "name": "train",
         "orientation": "h",
         "type": "bar",
         "uid": "91cb8746-7112-469e-b19e-6f64c4663d17",
         "x": [
          1,
          1,
          3,
          3,
          3,
          4,
          4,
          4,
          4,
          5,
          5,
          5,
          5,
          6,
          6,
          6,
          7,
          8,
          9,
          9,
          9,
          10,
          12,
          12,
          15,
          16,
          18,
          20,
          21,
          28,
          34,
          39,
          43,
          51,
          55,
          65,
          93,
          95,
          188,
          218,
          222,
          235,
          267,
          304,
          307,
          464,
          525,
          1312,
          1791,
          5489,
          6506,
          23544,
          37307,
          40892
         ],
         "y": [
          "PuaMode",
          "Census_IsWIMBootEnabled",
          "Processor",
          "Census_ProcessorClass",
          "Census_OSArchitecture",
          "Platform",
          "Census_ProcessorManufacturerIdentifier",
          "Census_PrimaryDiskTypeName",
          "Census_GenuineStateName",
          "ProductName",
          "AVProductsInstalled",
          "AVProductsEnabled",
          "UacLuaenable",
          "RtpStateBitfield",
          "Census_OSWUAutoUpdateOptionsName",
          "Census_ActivationChannel",
          "Census_FlightRing",
          "SkuEdition",
          "OsPlatformSubRelease",
          "Census_PowerPlatformRoleName",
          "Census_OSInstallTypeName",
          "OsSuite",
          "SmartScreen",
          "Census_MDC2FormFactor",
          "Wdft_RegionIdentifier",
          "Census_OSBranch",
          "OsVer",
          "Census_OSSkuName",
          "Census_OSEdition",
          "Census_InternalBatteryType",
          "Census_ChassisTypeName",
          "Census_OSInstallLanguageIdentifier",
          "OrganizationIdentifier",
          "OsBuild",
          "EngineVersion",
          "Census_OSBuildNumber",
          "AppVersion",
          "Census_OSUILocaleIdentifier",
          "IeVerIdentifier",
          "LocaleEnglishNameIdentifier",
          "CountryIdentifier",
          "Census_OSBuildRevision",
          "GeoNameIdentifier",
          "Census_FirmwareManufacturerIdentifier",
          "Census_OSVersion",
          "OsBuildLab",
          "DefaultBrowsersIdentifier",
          "Census_OEMNameIdentifier",
          "Census_ProcessorModelIdentifier",
          "AVProductStatesIdentifier",
          "AvSigVersion",
          "Census_FirmwareVersionIdentifier",
          "CityIdentifier",
          "Census_OEMModelIdentifier"
         ]
        }
       ],
       "layout": {
        "bargap": 0.1,
        "bargroupgap": 0.1,
        "barmode": "group",
        "height": 1600,
        "title": "Categorical cardinality",
        "width": 800,
        "xaxis": {
         "domain": [
          0.25,
          1
         ],
         "title": "Number of categories",
         "titlefont": {
          "color": "rgb(107, 107, 107)",
          "size": 16
         }
        }
       }
      },
      "text/html": [
       "<div id=\"1f1e7d5f-9114-4319-9983-8bf68230b054\" style=\"height: 1600px; width: 800px;\" class=\"plotly-graph-div\"></div><script type=\"text/javascript\">require([\"plotly\"], function(Plotly) { window.PLOTLYENV=window.PLOTLYENV || {};window.PLOTLYENV.BASE_URL=\"https://plot.ly\";Plotly.newPlot(\"1f1e7d5f-9114-4319-9983-8bf68230b054\", [{\"marker\": {\"color\": \"rgb(49,130,189)\"}, \"name\": \"train\", \"orientation\": \"h\", \"x\": [1, 1, 3, 3, 3, 4, 4, 4, 4, 5, 5, 5, 5, 6, 6, 6, 7, 8, 9, 9, 9, 10, 12, 12, 15, 16, 18, 20, 21, 28, 34, 39, 43, 51, 55, 65, 93, 95, 188, 218, 222, 235, 267, 304, 307, 464, 525, 1312, 1791, 5489, 6506, 23544, 37307, 40892], \"y\": [\"PuaMode\", \"Census_IsWIMBootEnabled\", \"Processor\", \"Census_ProcessorClass\", \"Census_OSArchitecture\", \"Platform\", \"Census_ProcessorManufacturerIdentifier\", \"Census_PrimaryDiskTypeName\", \"Census_GenuineStateName\", \"ProductName\", \"AVProductsInstalled\", \"AVProductsEnabled\", \"UacLuaenable\", \"RtpStateBitfield\", \"Census_OSWUAutoUpdateOptionsName\", \"Census_ActivationChannel\", \"Census_FlightRing\", \"SkuEdition\", \"OsPlatformSubRelease\", \"Census_PowerPlatformRoleName\", \"Census_OSInstallTypeName\", \"OsSuite\", \"SmartScreen\", \"Census_MDC2FormFactor\", \"Wdft_RegionIdentifier\", \"Census_OSBranch\", \"OsVer\", \"Census_OSSkuName\", \"Census_OSEdition\", \"Census_InternalBatteryType\", \"Census_ChassisTypeName\", \"Census_OSInstallLanguageIdentifier\", \"OrganizationIdentifier\", \"OsBuild\", \"EngineVersion\", \"Census_OSBuildNumber\", \"AppVersion\", \"Census_OSUILocaleIdentifier\", \"IeVerIdentifier\", \"LocaleEnglishNameIdentifier\", \"CountryIdentifier\", \"Census_OSBuildRevision\", \"GeoNameIdentifier\", \"Census_FirmwareManufacturerIdentifier\", \"Census_OSVersion\", \"OsBuildLab\", \"DefaultBrowsersIdentifier\", \"Census_OEMNameIdentifier\", \"Census_ProcessorModelIdentifier\", \"AVProductStatesIdentifier\", \"AvSigVersion\", \"Census_FirmwareVersionIdentifier\", \"CityIdentifier\", \"Census_OEMModelIdentifier\"], \"type\": \"bar\", \"uid\": \"91cb8746-7112-469e-b19e-6f64c4663d17\"}], {\"bargap\": 0.1, \"bargroupgap\": 0.1, \"barmode\": \"group\", \"height\": 1600, \"title\": \"Categorical cardinality\", \"width\": 800, \"xaxis\": {\"domain\": [0.25, 1], \"title\": \"Number of categories\", \"titlefont\": {\"color\": \"rgb(107, 107, 107)\", \"size\": 16}}}, {\"showLink\": true, \"linkText\": \"Export to plot.ly\", \"plotlyServerURL\": \"https://plot.ly\"})});</script>"
      ],
      "text/vnd.plotly.v1+html": [
       "<div id=\"1f1e7d5f-9114-4319-9983-8bf68230b054\" style=\"height: 1600px; width: 800px;\" class=\"plotly-graph-div\"></div><script type=\"text/javascript\">require([\"plotly\"], function(Plotly) { window.PLOTLYENV=window.PLOTLYENV || {};window.PLOTLYENV.BASE_URL=\"https://plot.ly\";Plotly.newPlot(\"1f1e7d5f-9114-4319-9983-8bf68230b054\", [{\"marker\": {\"color\": \"rgb(49,130,189)\"}, \"name\": \"train\", \"orientation\": \"h\", \"x\": [1, 1, 3, 3, 3, 4, 4, 4, 4, 5, 5, 5, 5, 6, 6, 6, 7, 8, 9, 9, 9, 10, 12, 12, 15, 16, 18, 20, 21, 28, 34, 39, 43, 51, 55, 65, 93, 95, 188, 218, 222, 235, 267, 304, 307, 464, 525, 1312, 1791, 5489, 6506, 23544, 37307, 40892], \"y\": [\"PuaMode\", \"Census_IsWIMBootEnabled\", \"Processor\", \"Census_ProcessorClass\", \"Census_OSArchitecture\", \"Platform\", \"Census_ProcessorManufacturerIdentifier\", \"Census_PrimaryDiskTypeName\", \"Census_GenuineStateName\", \"ProductName\", \"AVProductsInstalled\", \"AVProductsEnabled\", \"UacLuaenable\", \"RtpStateBitfield\", \"Census_OSWUAutoUpdateOptionsName\", \"Census_ActivationChannel\", \"Census_FlightRing\", \"SkuEdition\", \"OsPlatformSubRelease\", \"Census_PowerPlatformRoleName\", \"Census_OSInstallTypeName\", \"OsSuite\", \"SmartScreen\", \"Census_MDC2FormFactor\", \"Wdft_RegionIdentifier\", \"Census_OSBranch\", \"OsVer\", \"Census_OSSkuName\", \"Census_OSEdition\", \"Census_InternalBatteryType\", \"Census_ChassisTypeName\", \"Census_OSInstallLanguageIdentifier\", \"OrganizationIdentifier\", \"OsBuild\", \"EngineVersion\", \"Census_OSBuildNumber\", \"AppVersion\", \"Census_OSUILocaleIdentifier\", \"IeVerIdentifier\", \"LocaleEnglishNameIdentifier\", \"CountryIdentifier\", \"Census_OSBuildRevision\", \"GeoNameIdentifier\", \"Census_FirmwareManufacturerIdentifier\", \"Census_OSVersion\", \"OsBuildLab\", \"DefaultBrowsersIdentifier\", \"Census_OEMNameIdentifier\", \"Census_ProcessorModelIdentifier\", \"AVProductStatesIdentifier\", \"AvSigVersion\", \"Census_FirmwareVersionIdentifier\", \"CityIdentifier\", \"Census_OEMModelIdentifier\"], \"type\": \"bar\", \"uid\": \"91cb8746-7112-469e-b19e-6f64c4663d17\"}], {\"bargap\": 0.1, \"bargroupgap\": 0.1, \"barmode\": \"group\", \"height\": 1600, \"title\": \"Categorical cardinality\", \"width\": 800, \"xaxis\": {\"domain\": [0.25, 1], \"title\": \"Number of categories\", \"titlefont\": {\"color\": \"rgb(107, 107, 107)\", \"size\": 16}}}, {\"showLink\": true, \"linkText\": \"Export to plot.ly\", \"plotlyServerURL\": \"https://plot.ly\"})});</script>"
      ]
     },
     "metadata": {},
     "output_type": "display_data"
    }
   ],
   "source": [
    "cardinality = []\n",
    "for c in categorical_columns:\n",
    "    if c == 'MachineIdentifier': continue\n",
    "    cardinality.append([c, train[c].nunique()])\n",
    "cardinality.sort(key = lambda x:x[1], reverse=False)\n",
    "\n",
    "trace = go.Bar(y=[x[0] for x in cardinality],\n",
    "               x=[x[1] for x in cardinality],\n",
    "               orientation='h', marker=dict(color='rgb(49,130,189)'), name='train')\n",
    "\n",
    "layout = go.Layout(\n",
    "    title='Categorical cardinality', height=1600, width=800,\n",
    "    xaxis=dict(\n",
    "        title='Number of categories',\n",
    "        titlefont=dict(size=16, color='rgb(107, 107, 107)'),\n",
    "        domain=[0.25, 1]\n",
    "    ),\n",
    "    barmode='group',\n",
    "    bargap=0.1,\n",
    "    bargroupgap=0.1\n",
    ")\n",
    "\n",
    "fig = go.Figure(data=[trace], layout=layout)\n",
    "iplot(fig)"
   ]
  },
  {
   "cell_type": "code",
   "execution_count": 13,
   "metadata": {},
   "outputs": [
    {
     "data": {
      "text/html": [
       "<div>\n",
       "<style scoped>\n",
       "    .dataframe tbody tr th:only-of-type {\n",
       "        vertical-align: middle;\n",
       "    }\n",
       "\n",
       "    .dataframe tbody tr th {\n",
       "        vertical-align: top;\n",
       "    }\n",
       "\n",
       "    .dataframe thead th {\n",
       "        text-align: right;\n",
       "    }\n",
       "</style>\n",
       "<table border=\"1\" class=\"dataframe\">\n",
       "  <thead>\n",
       "    <tr style=\"text-align: right;\">\n",
       "      <th></th>\n",
       "      <th>IsBeta</th>\n",
       "      <th>RtpStateBitfield</th>\n",
       "      <th>IsSxsPassiveMode</th>\n",
       "      <th>DefaultBrowsersIdentifier</th>\n",
       "      <th>AVProductStatesIdentifier</th>\n",
       "      <th>AVProductsInstalled</th>\n",
       "      <th>AVProductsEnabled</th>\n",
       "      <th>HasTpm</th>\n",
       "      <th>CountryIdentifier</th>\n",
       "      <th>CityIdentifier</th>\n",
       "      <th>OrganizationIdentifier</th>\n",
       "      <th>GeoNameIdentifier</th>\n",
       "      <th>LocaleEnglishNameIdentifier</th>\n",
       "      <th>OsBuild</th>\n",
       "      <th>OsSuite</th>\n",
       "      <th>IsProtected</th>\n",
       "      <th>AutoSampleOptIn</th>\n",
       "      <th>SMode</th>\n",
       "      <th>IeVerIdentifier</th>\n",
       "      <th>Firewall</th>\n",
       "      <th>UacLuaenable</th>\n",
       "      <th>Census_OEMNameIdentifier</th>\n",
       "      <th>Census_OEMModelIdentifier</th>\n",
       "      <th>Census_ProcessorCoreCount</th>\n",
       "      <th>Census_ProcessorManufacturerIdentifier</th>\n",
       "      <th>Census_ProcessorModelIdentifier</th>\n",
       "      <th>Census_PrimaryDiskTotalCapacity</th>\n",
       "      <th>Census_SystemVolumeTotalCapacity</th>\n",
       "      <th>Census_HasOpticalDiskDrive</th>\n",
       "      <th>Census_TotalPhysicalRAM</th>\n",
       "      <th>Census_InternalPrimaryDiagonalDisplaySizeInInches</th>\n",
       "      <th>Census_InternalPrimaryDisplayResolutionHorizontal</th>\n",
       "      <th>Census_InternalPrimaryDisplayResolutionVertical</th>\n",
       "      <th>Census_InternalBatteryNumberOfCharges</th>\n",
       "      <th>Census_OSBuildNumber</th>\n",
       "      <th>Census_OSBuildRevision</th>\n",
       "      <th>Census_OSInstallLanguageIdentifier</th>\n",
       "      <th>Census_OSUILocaleIdentifier</th>\n",
       "      <th>Census_IsPortableOperatingSystem</th>\n",
       "      <th>Census_IsFlightingInternal</th>\n",
       "      <th>Census_IsFlightsDisabled</th>\n",
       "      <th>Census_ThresholdOptIn</th>\n",
       "      <th>Census_FirmwareManufacturerIdentifier</th>\n",
       "      <th>Census_FirmwareVersionIdentifier</th>\n",
       "      <th>Census_IsSecureBootEnabled</th>\n",
       "      <th>Census_IsWIMBootEnabled</th>\n",
       "      <th>Census_IsVirtualDevice</th>\n",
       "      <th>Census_IsTouchEnabled</th>\n",
       "      <th>Census_IsPenCapable</th>\n",
       "      <th>Census_IsAlwaysOnAlwaysConnectedCapable</th>\n",
       "      <th>Wdft_IsGamer</th>\n",
       "      <th>Wdft_RegionIdentifier</th>\n",
       "      <th>HasDetections</th>\n",
       "    </tr>\n",
       "  </thead>\n",
       "  <tbody>\n",
       "    <tr>\n",
       "      <th>count</th>\n",
       "      <td>500000.000000</td>\n",
       "      <td>498126.0</td>\n",
       "      <td>500000.000000</td>\n",
       "      <td>2.430200e+04</td>\n",
       "      <td>497969.000000</td>\n",
       "      <td>497969.0</td>\n",
       "      <td>497969.0</td>\n",
       "      <td>500000.000000</td>\n",
       "      <td>500000.000000</td>\n",
       "      <td>481791.000000</td>\n",
       "      <td>345642.0</td>\n",
       "      <td>499997.0</td>\n",
       "      <td>500000.000000</td>\n",
       "      <td>500000.000000</td>\n",
       "      <td>500000.000000</td>\n",
       "      <td>497980.0</td>\n",
       "      <td>500000.000000</td>\n",
       "      <td>469942.000000</td>\n",
       "      <td>496625.0</td>\n",
       "      <td>494821.0</td>\n",
       "      <td>499387.000000</td>\n",
       "      <td>494730.0</td>\n",
       "      <td>494342.000000</td>\n",
       "      <td>497653.0</td>\n",
       "      <td>497653.0</td>\n",
       "      <td>497650.0</td>\n",
       "      <td>4.970340e+05</td>\n",
       "      <td>4.970340e+05</td>\n",
       "      <td>500000.000000</td>\n",
       "      <td>495470.000000</td>\n",
       "      <td>497260.000000</td>\n",
       "      <td>497266.0</td>\n",
       "      <td>497266.0</td>\n",
       "      <td>4.848750e+05</td>\n",
       "      <td>500000.000000</td>\n",
       "      <td>500000.000000</td>\n",
       "      <td>496682.0</td>\n",
       "      <td>500000.000000</td>\n",
       "      <td>500000.000000</td>\n",
       "      <td>84845.000000</td>\n",
       "      <td>491103.000000</td>\n",
       "      <td>182487.000000</td>\n",
       "      <td>489740.0</td>\n",
       "      <td>491044.000000</td>\n",
       "      <td>500000.000000</td>\n",
       "      <td>182927.0</td>\n",
       "      <td>499090.000000</td>\n",
       "      <td>500000.000000</td>\n",
       "      <td>500000.000000</td>\n",
       "      <td>496026.000000</td>\n",
       "      <td>482909.0</td>\n",
       "      <td>482909.0</td>\n",
       "      <td>500000.000000</td>\n",
       "    </tr>\n",
       "    <tr>\n",
       "      <th>mean</th>\n",
       "      <td>0.000010</td>\n",
       "      <td>NaN</td>\n",
       "      <td>0.017286</td>\n",
       "      <td>inf</td>\n",
       "      <td>47774.417969</td>\n",
       "      <td>NaN</td>\n",
       "      <td>NaN</td>\n",
       "      <td>0.987822</td>\n",
       "      <td>107.999314</td>\n",
       "      <td>81284.453125</td>\n",
       "      <td>NaN</td>\n",
       "      <td>NaN</td>\n",
       "      <td>27.776362</td>\n",
       "      <td>15718.549790</td>\n",
       "      <td>575.487154</td>\n",
       "      <td>NaN</td>\n",
       "      <td>0.000028</td>\n",
       "      <td>0.000458</td>\n",
       "      <td>NaN</td>\n",
       "      <td>NaN</td>\n",
       "      <td>0.995112</td>\n",
       "      <td>NaN</td>\n",
       "      <td>238797.359375</td>\n",
       "      <td>NaN</td>\n",
       "      <td>NaN</td>\n",
       "      <td>NaN</td>\n",
       "      <td>5.119288e+05</td>\n",
       "      <td>3.771926e+05</td>\n",
       "      <td>0.076776</td>\n",
       "      <td>6123.438965</td>\n",
       "      <td>NaN</td>\n",
       "      <td>NaN</td>\n",
       "      <td>NaN</td>\n",
       "      <td>1.123827e+09</td>\n",
       "      <td>15834.204674</td>\n",
       "      <td>967.362286</td>\n",
       "      <td>NaN</td>\n",
       "      <td>60.461090</td>\n",
       "      <td>0.000636</td>\n",
       "      <td>0.000012</td>\n",
       "      <td>0.000008</td>\n",
       "      <td>0.000290</td>\n",
       "      <td>NaN</td>\n",
       "      <td>33013.386719</td>\n",
       "      <td>0.486768</td>\n",
       "      <td>0.0</td>\n",
       "      <td>0.006958</td>\n",
       "      <td>0.125776</td>\n",
       "      <td>0.037976</td>\n",
       "      <td>0.056915</td>\n",
       "      <td>NaN</td>\n",
       "      <td>NaN</td>\n",
       "      <td>0.500768</td>\n",
       "    </tr>\n",
       "    <tr>\n",
       "      <th>std</th>\n",
       "      <td>0.003162</td>\n",
       "      <td>0.0</td>\n",
       "      <td>0.130335</td>\n",
       "      <td>inf</td>\n",
       "      <td>14024.211914</td>\n",
       "      <td>0.0</td>\n",
       "      <td>0.0</td>\n",
       "      <td>0.109680</td>\n",
       "      <td>62.959880</td>\n",
       "      <td>48920.117188</td>\n",
       "      <td>0.0</td>\n",
       "      <td>NaN</td>\n",
       "      <td>65.630390</td>\n",
       "      <td>2192.160343</td>\n",
       "      <td>248.009244</td>\n",
       "      <td>0.0</td>\n",
       "      <td>0.005291</td>\n",
       "      <td>0.021393</td>\n",
       "      <td>NaN</td>\n",
       "      <td>0.0</td>\n",
       "      <td>0.233560</td>\n",
       "      <td>NaN</td>\n",
       "      <td>72023.726562</td>\n",
       "      <td>0.0</td>\n",
       "      <td>0.0</td>\n",
       "      <td>NaN</td>\n",
       "      <td>3.601384e+05</td>\n",
       "      <td>3.293805e+05</td>\n",
       "      <td>0.266236</td>\n",
       "      <td>5285.255371</td>\n",
       "      <td>0.000000</td>\n",
       "      <td>NaN</td>\n",
       "      <td>NaN</td>\n",
       "      <td>1.893357e+09</td>\n",
       "      <td>1961.162449</td>\n",
       "      <td>2916.256903</td>\n",
       "      <td>0.0</td>\n",
       "      <td>44.985093</td>\n",
       "      <td>0.025211</td>\n",
       "      <td>0.003435</td>\n",
       "      <td>0.002857</td>\n",
       "      <td>0.017029</td>\n",
       "      <td>NaN</td>\n",
       "      <td>21193.039062</td>\n",
       "      <td>0.499825</td>\n",
       "      <td>0.0</td>\n",
       "      <td>0.083130</td>\n",
       "      <td>0.331597</td>\n",
       "      <td>0.191138</td>\n",
       "      <td>0.232056</td>\n",
       "      <td>0.0</td>\n",
       "      <td>0.0</td>\n",
       "      <td>0.500000</td>\n",
       "    </tr>\n",
       "    <tr>\n",
       "      <th>min</th>\n",
       "      <td>0.000000</td>\n",
       "      <td>0.0</td>\n",
       "      <td>0.000000</td>\n",
       "      <td>1.000000e+00</td>\n",
       "      <td>39.000000</td>\n",
       "      <td>1.0</td>\n",
       "      <td>0.0</td>\n",
       "      <td>0.000000</td>\n",
       "      <td>1.000000</td>\n",
       "      <td>5.000000</td>\n",
       "      <td>1.0</td>\n",
       "      <td>1.0</td>\n",
       "      <td>-127.000000</td>\n",
       "      <td>7600.000000</td>\n",
       "      <td>16.000000</td>\n",
       "      <td>0.0</td>\n",
       "      <td>0.000000</td>\n",
       "      <td>0.000000</td>\n",
       "      <td>1.0</td>\n",
       "      <td>0.0</td>\n",
       "      <td>0.000000</td>\n",
       "      <td>9.0</td>\n",
       "      <td>14.000000</td>\n",
       "      <td>1.0</td>\n",
       "      <td>1.0</td>\n",
       "      <td>10.0</td>\n",
       "      <td>0.000000e+00</td>\n",
       "      <td>0.000000e+00</td>\n",
       "      <td>0.000000</td>\n",
       "      <td>512.000000</td>\n",
       "      <td>3.900391</td>\n",
       "      <td>-1.0</td>\n",
       "      <td>-1.0</td>\n",
       "      <td>0.000000e+00</td>\n",
       "      <td>7601.000000</td>\n",
       "      <td>0.000000</td>\n",
       "      <td>1.0</td>\n",
       "      <td>5.000000</td>\n",
       "      <td>0.000000</td>\n",
       "      <td>0.000000</td>\n",
       "      <td>0.000000</td>\n",
       "      <td>0.000000</td>\n",
       "      <td>9.0</td>\n",
       "      <td>5.000000</td>\n",
       "      <td>0.000000</td>\n",
       "      <td>0.0</td>\n",
       "      <td>0.000000</td>\n",
       "      <td>0.000000</td>\n",
       "      <td>0.000000</td>\n",
       "      <td>0.000000</td>\n",
       "      <td>0.0</td>\n",
       "      <td>1.0</td>\n",
       "      <td>0.000000</td>\n",
       "    </tr>\n",
       "    <tr>\n",
       "      <th>25%</th>\n",
       "      <td>0.000000</td>\n",
       "      <td>7.0</td>\n",
       "      <td>0.000000</td>\n",
       "      <td>7.880000e+02</td>\n",
       "      <td>49480.000000</td>\n",
       "      <td>1.0</td>\n",
       "      <td>1.0</td>\n",
       "      <td>1.000000</td>\n",
       "      <td>51.000000</td>\n",
       "      <td>36825.000000</td>\n",
       "      <td>18.0</td>\n",
       "      <td>89.0</td>\n",
       "      <td>-29.000000</td>\n",
       "      <td>15063.000000</td>\n",
       "      <td>256.000000</td>\n",
       "      <td>1.0</td>\n",
       "      <td>0.000000</td>\n",
       "      <td>0.000000</td>\n",
       "      <td>111.0</td>\n",
       "      <td>1.0</td>\n",
       "      <td>1.000000</td>\n",
       "      <td>1443.0</td>\n",
       "      <td>189586.000000</td>\n",
       "      <td>2.0</td>\n",
       "      <td>5.0</td>\n",
       "      <td>1998.0</td>\n",
       "      <td>2.393720e+05</td>\n",
       "      <td>1.207850e+05</td>\n",
       "      <td>0.000000</td>\n",
       "      <td>4096.000000</td>\n",
       "      <td>13.898438</td>\n",
       "      <td>1366.0</td>\n",
       "      <td>768.0</td>\n",
       "      <td>0.000000e+00</td>\n",
       "      <td>15063.000000</td>\n",
       "      <td>165.000000</td>\n",
       "      <td>8.0</td>\n",
       "      <td>31.000000</td>\n",
       "      <td>0.000000</td>\n",
       "      <td>0.000000</td>\n",
       "      <td>0.000000</td>\n",
       "      <td>0.000000</td>\n",
       "      <td>142.0</td>\n",
       "      <td>13169.000000</td>\n",
       "      <td>0.000000</td>\n",
       "      <td>0.0</td>\n",
       "      <td>0.000000</td>\n",
       "      <td>0.000000</td>\n",
       "      <td>0.000000</td>\n",
       "      <td>0.000000</td>\n",
       "      <td>0.0</td>\n",
       "      <td>3.0</td>\n",
       "      <td>0.000000</td>\n",
       "    </tr>\n",
       "    <tr>\n",
       "      <th>50%</th>\n",
       "      <td>0.000000</td>\n",
       "      <td>7.0</td>\n",
       "      <td>0.000000</td>\n",
       "      <td>1.632000e+03</td>\n",
       "      <td>53447.000000</td>\n",
       "      <td>1.0</td>\n",
       "      <td>1.0</td>\n",
       "      <td>1.000000</td>\n",
       "      <td>97.000000</td>\n",
       "      <td>82373.000000</td>\n",
       "      <td>27.0</td>\n",
       "      <td>181.0</td>\n",
       "      <td>58.000000</td>\n",
       "      <td>16299.000000</td>\n",
       "      <td>768.000000</td>\n",
       "      <td>1.0</td>\n",
       "      <td>0.000000</td>\n",
       "      <td>0.000000</td>\n",
       "      <td>117.0</td>\n",
       "      <td>1.0</td>\n",
       "      <td>1.000000</td>\n",
       "      <td>2102.0</td>\n",
       "      <td>246715.000000</td>\n",
       "      <td>4.0</td>\n",
       "      <td>5.0</td>\n",
       "      <td>2500.0</td>\n",
       "      <td>4.769400e+05</td>\n",
       "      <td>2.494760e+05</td>\n",
       "      <td>0.000000</td>\n",
       "      <td>4096.000000</td>\n",
       "      <td>15.500000</td>\n",
       "      <td>1366.0</td>\n",
       "      <td>768.0</td>\n",
       "      <td>0.000000e+00</td>\n",
       "      <td>16299.000000</td>\n",
       "      <td>285.000000</td>\n",
       "      <td>9.0</td>\n",
       "      <td>34.000000</td>\n",
       "      <td>0.000000</td>\n",
       "      <td>0.000000</td>\n",
       "      <td>0.000000</td>\n",
       "      <td>0.000000</td>\n",
       "      <td>500.0</td>\n",
       "      <td>33070.000000</td>\n",
       "      <td>0.000000</td>\n",
       "      <td>0.0</td>\n",
       "      <td>0.000000</td>\n",
       "      <td>0.000000</td>\n",
       "      <td>0.000000</td>\n",
       "      <td>0.000000</td>\n",
       "      <td>0.0</td>\n",
       "      <td>10.0</td>\n",
       "      <td>1.000000</td>\n",
       "    </tr>\n",
       "    <tr>\n",
       "      <th>75%</th>\n",
       "      <td>0.000000</td>\n",
       "      <td>7.0</td>\n",
       "      <td>0.000000</td>\n",
       "      <td>2.292000e+03</td>\n",
       "      <td>53447.000000</td>\n",
       "      <td>2.0</td>\n",
       "      <td>1.0</td>\n",
       "      <td>1.000000</td>\n",
       "      <td>162.000000</td>\n",
       "      <td>123978.000000</td>\n",
       "      <td>27.0</td>\n",
       "      <td>267.0</td>\n",
       "      <td>75.000000</td>\n",
       "      <td>17134.000000</td>\n",
       "      <td>768.000000</td>\n",
       "      <td>1.0</td>\n",
       "      <td>0.000000</td>\n",
       "      <td>0.000000</td>\n",
       "      <td>137.0</td>\n",
       "      <td>1.0</td>\n",
       "      <td>1.000000</td>\n",
       "      <td>2668.0</td>\n",
       "      <td>303822.000000</td>\n",
       "      <td>4.0</td>\n",
       "      <td>5.0</td>\n",
       "      <td>2874.0</td>\n",
       "      <td>9.538690e+05</td>\n",
       "      <td>4.759720e+05</td>\n",
       "      <td>0.000000</td>\n",
       "      <td>8192.000000</td>\n",
       "      <td>17.203125</td>\n",
       "      <td>1920.0</td>\n",
       "      <td>1080.0</td>\n",
       "      <td>4.294967e+09</td>\n",
       "      <td>17134.000000</td>\n",
       "      <td>547.000000</td>\n",
       "      <td>20.0</td>\n",
       "      <td>90.000000</td>\n",
       "      <td>0.000000</td>\n",
       "      <td>0.000000</td>\n",
       "      <td>0.000000</td>\n",
       "      <td>0.000000</td>\n",
       "      <td>556.0</td>\n",
       "      <td>52427.000000</td>\n",
       "      <td>1.000000</td>\n",
       "      <td>0.0</td>\n",
       "      <td>0.000000</td>\n",
       "      <td>0.000000</td>\n",
       "      <td>0.000000</td>\n",
       "      <td>0.000000</td>\n",
       "      <td>1.0</td>\n",
       "      <td>11.0</td>\n",
       "      <td>1.000000</td>\n",
       "    </tr>\n",
       "    <tr>\n",
       "      <th>max</th>\n",
       "      <td>1.000000</td>\n",
       "      <td>8.0</td>\n",
       "      <td>1.000000</td>\n",
       "      <td>3.204000e+03</td>\n",
       "      <td>70492.000000</td>\n",
       "      <td>5.0</td>\n",
       "      <td>4.0</td>\n",
       "      <td>1.000000</td>\n",
       "      <td>222.000000</td>\n",
       "      <td>167962.000000</td>\n",
       "      <td>52.0</td>\n",
       "      <td>296.0</td>\n",
       "      <td>127.000000</td>\n",
       "      <td>18242.000000</td>\n",
       "      <td>784.000000</td>\n",
       "      <td>1.0</td>\n",
       "      <td>1.000000</td>\n",
       "      <td>1.000000</td>\n",
       "      <td>429.0</td>\n",
       "      <td>1.0</td>\n",
       "      <td>48.000000</td>\n",
       "      <td>6144.0</td>\n",
       "      <td>345494.000000</td>\n",
       "      <td>88.0</td>\n",
       "      <td>10.0</td>\n",
       "      <td>4480.0</td>\n",
       "      <td>3.433880e+07</td>\n",
       "      <td>3.433824e+07</td>\n",
       "      <td>1.000000</td>\n",
       "      <td>786432.000000</td>\n",
       "      <td>142.000000</td>\n",
       "      <td>8192.0</td>\n",
       "      <td>4320.0</td>\n",
       "      <td>4.294967e+09</td>\n",
       "      <td>18242.000000</td>\n",
       "      <td>17976.000000</td>\n",
       "      <td>39.0</td>\n",
       "      <td>162.000000</td>\n",
       "      <td>1.000000</td>\n",
       "      <td>1.000000</td>\n",
       "      <td>1.000000</td>\n",
       "      <td>1.000000</td>\n",
       "      <td>1087.0</td>\n",
       "      <td>72091.000000</td>\n",
       "      <td>1.000000</td>\n",
       "      <td>0.0</td>\n",
       "      <td>1.000000</td>\n",
       "      <td>1.000000</td>\n",
       "      <td>1.000000</td>\n",
       "      <td>1.000000</td>\n",
       "      <td>1.0</td>\n",
       "      <td>15.0</td>\n",
       "      <td>1.000000</td>\n",
       "    </tr>\n",
       "  </tbody>\n",
       "</table>\n",
       "</div>"
      ],
      "text/plain": [
       "              IsBeta  RtpStateBitfield  IsSxsPassiveMode  \\\n",
       "count  500000.000000          498126.0     500000.000000   \n",
       "mean        0.000010               NaN          0.017286   \n",
       "std         0.003162               0.0          0.130335   \n",
       "min         0.000000               0.0          0.000000   \n",
       "25%         0.000000               7.0          0.000000   \n",
       "50%         0.000000               7.0          0.000000   \n",
       "75%         0.000000               7.0          0.000000   \n",
       "max         1.000000               8.0          1.000000   \n",
       "\n",
       "       DefaultBrowsersIdentifier  AVProductStatesIdentifier  \\\n",
       "count               2.430200e+04              497969.000000   \n",
       "mean                         inf               47774.417969   \n",
       "std                          inf               14024.211914   \n",
       "min                 1.000000e+00                  39.000000   \n",
       "25%                 7.880000e+02               49480.000000   \n",
       "50%                 1.632000e+03               53447.000000   \n",
       "75%                 2.292000e+03               53447.000000   \n",
       "max                 3.204000e+03               70492.000000   \n",
       "\n",
       "       AVProductsInstalled  AVProductsEnabled         HasTpm  \\\n",
       "count             497969.0           497969.0  500000.000000   \n",
       "mean                   NaN                NaN       0.987822   \n",
       "std                    0.0                0.0       0.109680   \n",
       "min                    1.0                0.0       0.000000   \n",
       "25%                    1.0                1.0       1.000000   \n",
       "50%                    1.0                1.0       1.000000   \n",
       "75%                    2.0                1.0       1.000000   \n",
       "max                    5.0                4.0       1.000000   \n",
       "\n",
       "       CountryIdentifier  CityIdentifier  OrganizationIdentifier  \\\n",
       "count      500000.000000   481791.000000                345642.0   \n",
       "mean          107.999314    81284.453125                     NaN   \n",
       "std            62.959880    48920.117188                     0.0   \n",
       "min             1.000000        5.000000                     1.0   \n",
       "25%            51.000000    36825.000000                    18.0   \n",
       "50%            97.000000    82373.000000                    27.0   \n",
       "75%           162.000000   123978.000000                    27.0   \n",
       "max           222.000000   167962.000000                    52.0   \n",
       "\n",
       "       GeoNameIdentifier  LocaleEnglishNameIdentifier        OsBuild  \\\n",
       "count           499997.0                500000.000000  500000.000000   \n",
       "mean                 NaN                    27.776362   15718.549790   \n",
       "std                  NaN                    65.630390    2192.160343   \n",
       "min                  1.0                  -127.000000    7600.000000   \n",
       "25%                 89.0                   -29.000000   15063.000000   \n",
       "50%                181.0                    58.000000   16299.000000   \n",
       "75%                267.0                    75.000000   17134.000000   \n",
       "max                296.0                   127.000000   18242.000000   \n",
       "\n",
       "             OsSuite  IsProtected  AutoSampleOptIn          SMode  \\\n",
       "count  500000.000000     497980.0    500000.000000  469942.000000   \n",
       "mean      575.487154          NaN         0.000028       0.000458   \n",
       "std       248.009244          0.0         0.005291       0.021393   \n",
       "min        16.000000          0.0         0.000000       0.000000   \n",
       "25%       256.000000          1.0         0.000000       0.000000   \n",
       "50%       768.000000          1.0         0.000000       0.000000   \n",
       "75%       768.000000          1.0         0.000000       0.000000   \n",
       "max       784.000000          1.0         1.000000       1.000000   \n",
       "\n",
       "       IeVerIdentifier  Firewall   UacLuaenable  Census_OEMNameIdentifier  \\\n",
       "count         496625.0  494821.0  499387.000000                  494730.0   \n",
       "mean               NaN       NaN       0.995112                       NaN   \n",
       "std                NaN       0.0       0.233560                       NaN   \n",
       "min                1.0       0.0       0.000000                       9.0   \n",
       "25%              111.0       1.0       1.000000                    1443.0   \n",
       "50%              117.0       1.0       1.000000                    2102.0   \n",
       "75%              137.0       1.0       1.000000                    2668.0   \n",
       "max              429.0       1.0      48.000000                    6144.0   \n",
       "\n",
       "       Census_OEMModelIdentifier  Census_ProcessorCoreCount  \\\n",
       "count              494342.000000                   497653.0   \n",
       "mean               238797.359375                        NaN   \n",
       "std                 72023.726562                        0.0   \n",
       "min                    14.000000                        1.0   \n",
       "25%                189586.000000                        2.0   \n",
       "50%                246715.000000                        4.0   \n",
       "75%                303822.000000                        4.0   \n",
       "max                345494.000000                       88.0   \n",
       "\n",
       "       Census_ProcessorManufacturerIdentifier  \\\n",
       "count                                497653.0   \n",
       "mean                                      NaN   \n",
       "std                                       0.0   \n",
       "min                                       1.0   \n",
       "25%                                       5.0   \n",
       "50%                                       5.0   \n",
       "75%                                       5.0   \n",
       "max                                      10.0   \n",
       "\n",
       "       Census_ProcessorModelIdentifier  Census_PrimaryDiskTotalCapacity  \\\n",
       "count                         497650.0                     4.970340e+05   \n",
       "mean                               NaN                     5.119288e+05   \n",
       "std                                NaN                     3.601384e+05   \n",
       "min                               10.0                     0.000000e+00   \n",
       "25%                             1998.0                     2.393720e+05   \n",
       "50%                             2500.0                     4.769400e+05   \n",
       "75%                             2874.0                     9.538690e+05   \n",
       "max                             4480.0                     3.433880e+07   \n",
       "\n",
       "       Census_SystemVolumeTotalCapacity  Census_HasOpticalDiskDrive  \\\n",
       "count                      4.970340e+05               500000.000000   \n",
       "mean                       3.771926e+05                    0.076776   \n",
       "std                        3.293805e+05                    0.266236   \n",
       "min                        0.000000e+00                    0.000000   \n",
       "25%                        1.207850e+05                    0.000000   \n",
       "50%                        2.494760e+05                    0.000000   \n",
       "75%                        4.759720e+05                    0.000000   \n",
       "max                        3.433824e+07                    1.000000   \n",
       "\n",
       "       Census_TotalPhysicalRAM  \\\n",
       "count            495470.000000   \n",
       "mean               6123.438965   \n",
       "std                5285.255371   \n",
       "min                 512.000000   \n",
       "25%                4096.000000   \n",
       "50%                4096.000000   \n",
       "75%                8192.000000   \n",
       "max              786432.000000   \n",
       "\n",
       "       Census_InternalPrimaryDiagonalDisplaySizeInInches  \\\n",
       "count                                      497260.000000   \n",
       "mean                                                 NaN   \n",
       "std                                             0.000000   \n",
       "min                                             3.900391   \n",
       "25%                                            13.898438   \n",
       "50%                                            15.500000   \n",
       "75%                                            17.203125   \n",
       "max                                           142.000000   \n",
       "\n",
       "       Census_InternalPrimaryDisplayResolutionHorizontal  \\\n",
       "count                                           497266.0   \n",
       "mean                                                 NaN   \n",
       "std                                                  NaN   \n",
       "min                                                 -1.0   \n",
       "25%                                               1366.0   \n",
       "50%                                               1366.0   \n",
       "75%                                               1920.0   \n",
       "max                                               8192.0   \n",
       "\n",
       "       Census_InternalPrimaryDisplayResolutionVertical  \\\n",
       "count                                         497266.0   \n",
       "mean                                               NaN   \n",
       "std                                                NaN   \n",
       "min                                               -1.0   \n",
       "25%                                              768.0   \n",
       "50%                                              768.0   \n",
       "75%                                             1080.0   \n",
       "max                                             4320.0   \n",
       "\n",
       "       Census_InternalBatteryNumberOfCharges  Census_OSBuildNumber  \\\n",
       "count                           4.848750e+05         500000.000000   \n",
       "mean                            1.123827e+09          15834.204674   \n",
       "std                             1.893357e+09           1961.162449   \n",
       "min                             0.000000e+00           7601.000000   \n",
       "25%                             0.000000e+00          15063.000000   \n",
       "50%                             0.000000e+00          16299.000000   \n",
       "75%                             4.294967e+09          17134.000000   \n",
       "max                             4.294967e+09          18242.000000   \n",
       "\n",
       "       Census_OSBuildRevision  Census_OSInstallLanguageIdentifier  \\\n",
       "count           500000.000000                            496682.0   \n",
       "mean               967.362286                                 NaN   \n",
       "std               2916.256903                                 0.0   \n",
       "min                  0.000000                                 1.0   \n",
       "25%                165.000000                                 8.0   \n",
       "50%                285.000000                                 9.0   \n",
       "75%                547.000000                                20.0   \n",
       "max              17976.000000                                39.0   \n",
       "\n",
       "       Census_OSUILocaleIdentifier  Census_IsPortableOperatingSystem  \\\n",
       "count                500000.000000                     500000.000000   \n",
       "mean                     60.461090                          0.000636   \n",
       "std                      44.985093                          0.025211   \n",
       "min                       5.000000                          0.000000   \n",
       "25%                      31.000000                          0.000000   \n",
       "50%                      34.000000                          0.000000   \n",
       "75%                      90.000000                          0.000000   \n",
       "max                     162.000000                          1.000000   \n",
       "\n",
       "       Census_IsFlightingInternal  Census_IsFlightsDisabled  \\\n",
       "count                84845.000000             491103.000000   \n",
       "mean                     0.000012                  0.000008   \n",
       "std                      0.003435                  0.002857   \n",
       "min                      0.000000                  0.000000   \n",
       "25%                      0.000000                  0.000000   \n",
       "50%                      0.000000                  0.000000   \n",
       "75%                      0.000000                  0.000000   \n",
       "max                      1.000000                  1.000000   \n",
       "\n",
       "       Census_ThresholdOptIn  Census_FirmwareManufacturerIdentifier  \\\n",
       "count          182487.000000                               489740.0   \n",
       "mean                0.000290                                    NaN   \n",
       "std                 0.017029                                    NaN   \n",
       "min                 0.000000                                    9.0   \n",
       "25%                 0.000000                                  142.0   \n",
       "50%                 0.000000                                  500.0   \n",
       "75%                 0.000000                                  556.0   \n",
       "max                 1.000000                                 1087.0   \n",
       "\n",
       "       Census_FirmwareVersionIdentifier  Census_IsSecureBootEnabled  \\\n",
       "count                     491044.000000               500000.000000   \n",
       "mean                       33013.386719                    0.486768   \n",
       "std                        21193.039062                    0.499825   \n",
       "min                            5.000000                    0.000000   \n",
       "25%                        13169.000000                    0.000000   \n",
       "50%                        33070.000000                    0.000000   \n",
       "75%                        52427.000000                    1.000000   \n",
       "max                        72091.000000                    1.000000   \n",
       "\n",
       "       Census_IsWIMBootEnabled  Census_IsVirtualDevice  Census_IsTouchEnabled  \\\n",
       "count                 182927.0           499090.000000          500000.000000   \n",
       "mean                       0.0                0.006958               0.125776   \n",
       "std                        0.0                0.083130               0.331597   \n",
       "min                        0.0                0.000000               0.000000   \n",
       "25%                        0.0                0.000000               0.000000   \n",
       "50%                        0.0                0.000000               0.000000   \n",
       "75%                        0.0                0.000000               0.000000   \n",
       "max                        0.0                1.000000               1.000000   \n",
       "\n",
       "       Census_IsPenCapable  Census_IsAlwaysOnAlwaysConnectedCapable  \\\n",
       "count        500000.000000                            496026.000000   \n",
       "mean              0.037976                                 0.056915   \n",
       "std               0.191138                                 0.232056   \n",
       "min               0.000000                                 0.000000   \n",
       "25%               0.000000                                 0.000000   \n",
       "50%               0.000000                                 0.000000   \n",
       "75%               0.000000                                 0.000000   \n",
       "max               1.000000                                 1.000000   \n",
       "\n",
       "       Wdft_IsGamer  Wdft_RegionIdentifier  HasDetections  \n",
       "count      482909.0               482909.0  500000.000000  \n",
       "mean            NaN                    NaN       0.500768  \n",
       "std             0.0                    0.0       0.500000  \n",
       "min             0.0                    1.0       0.000000  \n",
       "25%             0.0                    3.0       0.000000  \n",
       "50%             0.0                   10.0       1.000000  \n",
       "75%             1.0                   11.0       1.000000  \n",
       "max             1.0                   15.0       1.000000  "
      ]
     },
     "execution_count": 13,
     "metadata": {},
     "output_type": "execute_result"
    }
   ],
   "source": [
    "train.describe()"
   ]
  },
  {
   "cell_type": "markdown",
   "metadata": {},
   "source": [
    "Since most of the data is categorical, pandas \"describe\" built-in function is not really informative. So, let's make our own describe report."
   ]
  },
  {
   "cell_type": "code",
   "execution_count": 13,
   "metadata": {},
   "outputs": [
    {
     "data": {
      "text/html": [
       "<div>\n",
       "<style scoped>\n",
       "    .dataframe tbody tr th:only-of-type {\n",
       "        vertical-align: middle;\n",
       "    }\n",
       "\n",
       "    .dataframe tbody tr th {\n",
       "        vertical-align: top;\n",
       "    }\n",
       "\n",
       "    .dataframe thead th {\n",
       "        text-align: right;\n",
       "    }\n",
       "</style>\n",
       "<table border=\"1\" class=\"dataframe\">\n",
       "  <thead>\n",
       "    <tr style=\"text-align: right;\">\n",
       "      <th></th>\n",
       "      <th>index</th>\n",
       "      <th>Total</th>\n",
       "      <th>Percentage of Missing</th>\n",
       "      <th>Unique values</th>\n",
       "      <th>Type</th>\n",
       "      <th>1st Category</th>\n",
       "      <th>2nd Category</th>\n",
       "      <th>3rd Category</th>\n",
       "    </tr>\n",
       "  </thead>\n",
       "  <tbody>\n",
       "    <tr>\n",
       "      <th>0</th>\n",
       "      <td>PuaMode</td>\n",
       "      <td>499878</td>\n",
       "      <td>99.9756</td>\n",
       "      <td>1.0</td>\n",
       "      <td>Category</td>\n",
       "      <td>0.0244</td>\n",
       "      <td>0.0000</td>\n",
       "      <td>0.0000</td>\n",
       "    </tr>\n",
       "    <tr>\n",
       "      <th>1</th>\n",
       "      <td>Census_ProcessorClass</td>\n",
       "      <td>497900</td>\n",
       "      <td>99.5800</td>\n",
       "      <td>3.0</td>\n",
       "      <td>Category</td>\n",
       "      <td>0.2338</td>\n",
       "      <td>0.1152</td>\n",
       "      <td>0.0710</td>\n",
       "    </tr>\n",
       "    <tr>\n",
       "      <th>2</th>\n",
       "      <td>DefaultBrowsersIdentifier</td>\n",
       "      <td>475698</td>\n",
       "      <td>95.1396</td>\n",
       "      <td>525.0</td>\n",
       "      <td>Category</td>\n",
       "      <td>0.5142</td>\n",
       "      <td>0.4712</td>\n",
       "      <td>0.3148</td>\n",
       "    </tr>\n",
       "    <tr>\n",
       "      <th>3</th>\n",
       "      <td>Census_IsFlightingInternal</td>\n",
       "      <td>415155</td>\n",
       "      <td>83.0310</td>\n",
       "      <td>2.0</td>\n",
       "      <td>Binary</td>\n",
       "      <td>16.9688</td>\n",
       "      <td>0.0002</td>\n",
       "      <td>0.0000</td>\n",
       "    </tr>\n",
       "    <tr>\n",
       "      <th>4</th>\n",
       "      <td>Census_InternalBatteryType</td>\n",
       "      <td>355142</td>\n",
       "      <td>71.0284</td>\n",
       "      <td>28.0</td>\n",
       "      <td>Category</td>\n",
       "      <td>22.7218</td>\n",
       "      <td>2.7564</td>\n",
       "      <td>2.0848</td>\n",
       "    </tr>\n",
       "    <tr>\n",
       "      <th>5</th>\n",
       "      <td>Census_ThresholdOptIn</td>\n",
       "      <td>317513</td>\n",
       "      <td>63.5026</td>\n",
       "      <td>2.0</td>\n",
       "      <td>Binary</td>\n",
       "      <td>36.4868</td>\n",
       "      <td>0.0106</td>\n",
       "      <td>0.0000</td>\n",
       "    </tr>\n",
       "    <tr>\n",
       "      <th>6</th>\n",
       "      <td>Census_IsWIMBootEnabled</td>\n",
       "      <td>317073</td>\n",
       "      <td>63.4146</td>\n",
       "      <td>1.0</td>\n",
       "      <td>Category</td>\n",
       "      <td>36.5854</td>\n",
       "      <td>0.0000</td>\n",
       "      <td>0.0000</td>\n",
       "    </tr>\n",
       "    <tr>\n",
       "      <th>7</th>\n",
       "      <td>SmartScreen</td>\n",
       "      <td>178295</td>\n",
       "      <td>35.6590</td>\n",
       "      <td>12.0</td>\n",
       "      <td>Category</td>\n",
       "      <td>48.3342</td>\n",
       "      <td>11.7560</td>\n",
       "      <td>2.0916</td>\n",
       "    </tr>\n",
       "    <tr>\n",
       "      <th>8</th>\n",
       "      <td>OrganizationIdentifier</td>\n",
       "      <td>154358</td>\n",
       "      <td>30.8716</td>\n",
       "      <td>43.0</td>\n",
       "      <td>Category</td>\n",
       "      <td>47.0896</td>\n",
       "      <td>19.6550</td>\n",
       "      <td>0.7226</td>\n",
       "    </tr>\n",
       "    <tr>\n",
       "      <th>9</th>\n",
       "      <td>SMode</td>\n",
       "      <td>30058</td>\n",
       "      <td>6.0116</td>\n",
       "      <td>2.0</td>\n",
       "      <td>Binary</td>\n",
       "      <td>93.9454</td>\n",
       "      <td>0.0430</td>\n",
       "      <td>0.0000</td>\n",
       "    </tr>\n",
       "    <tr>\n",
       "      <th>10</th>\n",
       "      <td>CityIdentifier</td>\n",
       "      <td>18209</td>\n",
       "      <td>3.6418</td>\n",
       "      <td>37307.0</td>\n",
       "      <td>Category</td>\n",
       "      <td>1.0776</td>\n",
       "      <td>0.9544</td>\n",
       "      <td>0.9346</td>\n",
       "    </tr>\n",
       "    <tr>\n",
       "      <th>11</th>\n",
       "      <td>Wdft_IsGamer</td>\n",
       "      <td>17091</td>\n",
       "      <td>3.4182</td>\n",
       "      <td>2.0</td>\n",
       "      <td>Binary</td>\n",
       "      <td>69.2856</td>\n",
       "      <td>27.2962</td>\n",
       "      <td>0.0000</td>\n",
       "    </tr>\n",
       "    <tr>\n",
       "      <th>12</th>\n",
       "      <td>Wdft_RegionIdentifier</td>\n",
       "      <td>17091</td>\n",
       "      <td>3.4182</td>\n",
       "      <td>15.0</td>\n",
       "      <td>Category</td>\n",
       "      <td>20.2052</td>\n",
       "      <td>15.0498</td>\n",
       "      <td>14.5226</td>\n",
       "    </tr>\n",
       "    <tr>\n",
       "      <th>13</th>\n",
       "      <td>Census_InternalBatteryNumberOfCharges</td>\n",
       "      <td>15125</td>\n",
       "      <td>3.0250</td>\n",
       "      <td>5187.0</td>\n",
       "      <td>Numeric</td>\n",
       "      <td>56.5806</td>\n",
       "      <td>25.3746</td>\n",
       "      <td>0.6050</td>\n",
       "    </tr>\n",
       "    <tr>\n",
       "      <th>14</th>\n",
       "      <td>Census_FirmwareManufacturerIdentifier</td>\n",
       "      <td>10260</td>\n",
       "      <td>2.0520</td>\n",
       "      <td>304.0</td>\n",
       "      <td>Category</td>\n",
       "      <td>30.2396</td>\n",
       "      <td>13.8378</td>\n",
       "      <td>13.1604</td>\n",
       "    </tr>\n",
       "    <tr>\n",
       "      <th>15</th>\n",
       "      <td>Census_FirmwareVersionIdentifier</td>\n",
       "      <td>8956</td>\n",
       "      <td>1.7912</td>\n",
       "      <td>23544.0</td>\n",
       "      <td>Category</td>\n",
       "      <td>0.9934</td>\n",
       "      <td>0.7050</td>\n",
       "      <td>0.6242</td>\n",
       "    </tr>\n",
       "    <tr>\n",
       "      <th>16</th>\n",
       "      <td>Census_IsFlightsDisabled</td>\n",
       "      <td>8897</td>\n",
       "      <td>1.7794</td>\n",
       "      <td>2.0</td>\n",
       "      <td>Binary</td>\n",
       "      <td>98.2198</td>\n",
       "      <td>0.0008</td>\n",
       "      <td>0.0000</td>\n",
       "    </tr>\n",
       "    <tr>\n",
       "      <th>17</th>\n",
       "      <td>Census_OEMModelIdentifier</td>\n",
       "      <td>5658</td>\n",
       "      <td>1.1316</td>\n",
       "      <td>40892.0</td>\n",
       "      <td>Category</td>\n",
       "      <td>3.4186</td>\n",
       "      <td>2.9880</td>\n",
       "      <td>1.5434</td>\n",
       "    </tr>\n",
       "    <tr>\n",
       "      <th>18</th>\n",
       "      <td>Census_OEMNameIdentifier</td>\n",
       "      <td>5270</td>\n",
       "      <td>1.0540</td>\n",
       "      <td>1312.0</td>\n",
       "      <td>Category</td>\n",
       "      <td>14.4904</td>\n",
       "      <td>11.6706</td>\n",
       "      <td>10.6004</td>\n",
       "    </tr>\n",
       "    <tr>\n",
       "      <th>19</th>\n",
       "      <td>Firewall</td>\n",
       "      <td>5179</td>\n",
       "      <td>1.0358</td>\n",
       "      <td>2.0</td>\n",
       "      <td>Binary</td>\n",
       "      <td>96.8354</td>\n",
       "      <td>2.1288</td>\n",
       "      <td>0.0000</td>\n",
       "    </tr>\n",
       "    <tr>\n",
       "      <th>20</th>\n",
       "      <td>Census_TotalPhysicalRAM</td>\n",
       "      <td>4530</td>\n",
       "      <td>0.9060</td>\n",
       "      <td>561.0</td>\n",
       "      <td>Numeric</td>\n",
       "      <td>45.9574</td>\n",
       "      <td>24.5748</td>\n",
       "      <td>12.2516</td>\n",
       "    </tr>\n",
       "    <tr>\n",
       "      <th>21</th>\n",
       "      <td>Census_IsAlwaysOnAlwaysConnectedCapable</td>\n",
       "      <td>3974</td>\n",
       "      <td>0.7948</td>\n",
       "      <td>2.0</td>\n",
       "      <td>Binary</td>\n",
       "      <td>93.5514</td>\n",
       "      <td>5.6538</td>\n",
       "      <td>0.0000</td>\n",
       "    </tr>\n",
       "    <tr>\n",
       "      <th>22</th>\n",
       "      <td>IeVerIdentifier</td>\n",
       "      <td>3375</td>\n",
       "      <td>0.6750</td>\n",
       "      <td>188.0</td>\n",
       "      <td>Category</td>\n",
       "      <td>43.5142</td>\n",
       "      <td>19.7612</td>\n",
       "      <td>5.3712</td>\n",
       "    </tr>\n",
       "    <tr>\n",
       "      <th>23</th>\n",
       "      <td>Census_OSInstallLanguageIdentifier</td>\n",
       "      <td>3318</td>\n",
       "      <td>0.6636</td>\n",
       "      <td>39.0</td>\n",
       "      <td>Category</td>\n",
       "      <td>35.6684</td>\n",
       "      <td>11.5986</td>\n",
       "      <td>5.7444</td>\n",
       "    </tr>\n",
       "    <tr>\n",
       "      <th>24</th>\n",
       "      <td>Census_PrimaryDiskTotalCapacity</td>\n",
       "      <td>2966</td>\n",
       "      <td>0.5932</td>\n",
       "      <td>1133.0</td>\n",
       "      <td>Numeric</td>\n",
       "      <td>31.8812</td>\n",
       "      <td>24.3074</td>\n",
       "      <td>5.3104</td>\n",
       "    </tr>\n",
       "    <tr>\n",
       "      <th>25</th>\n",
       "      <td>Census_SystemVolumeTotalCapacity</td>\n",
       "      <td>2966</td>\n",
       "      <td>0.5932</td>\n",
       "      <td>142066.0</td>\n",
       "      <td>Numeric</td>\n",
       "      <td>0.5772</td>\n",
       "      <td>0.5652</td>\n",
       "      <td>0.5028</td>\n",
       "    </tr>\n",
       "    <tr>\n",
       "      <th>26</th>\n",
       "      <td>Census_InternalPrimaryDiagonalDisplaySizeInInches</td>\n",
       "      <td>2740</td>\n",
       "      <td>0.5480</td>\n",
       "      <td>507.0</td>\n",
       "      <td>Numeric</td>\n",
       "      <td>34.1238</td>\n",
       "      <td>10.7108</td>\n",
       "      <td>6.0490</td>\n",
       "    </tr>\n",
       "    <tr>\n",
       "      <th>27</th>\n",
       "      <td>Census_InternalPrimaryDisplayResolutionHorizontal</td>\n",
       "      <td>2734</td>\n",
       "      <td>0.5468</td>\n",
       "      <td>504.0</td>\n",
       "      <td>Numeric</td>\n",
       "      <td>50.6280</td>\n",
       "      <td>24.9444</td>\n",
       "      <td>5.8540</td>\n",
       "    </tr>\n",
       "    <tr>\n",
       "      <th>28</th>\n",
       "      <td>Census_InternalPrimaryDisplayResolutionVertical</td>\n",
       "      <td>2734</td>\n",
       "      <td>0.5468</td>\n",
       "      <td>542.0</td>\n",
       "      <td>Numeric</td>\n",
       "      <td>55.7344</td>\n",
       "      <td>24.1258</td>\n",
       "      <td>7.3258</td>\n",
       "    </tr>\n",
       "    <tr>\n",
       "      <th>29</th>\n",
       "      <td>Census_ProcessorModelIdentifier</td>\n",
       "      <td>2350</td>\n",
       "      <td>0.4700</td>\n",
       "      <td>1791.0</td>\n",
       "      <td>Category</td>\n",
       "      <td>3.2510</td>\n",
       "      <td>3.0592</td>\n",
       "      <td>2.1904</td>\n",
       "    </tr>\n",
       "    <tr>\n",
       "      <th>...</th>\n",
       "      <td>...</td>\n",
       "      <td>...</td>\n",
       "      <td>...</td>\n",
       "      <td>...</td>\n",
       "      <td>...</td>\n",
       "      <td>...</td>\n",
       "      <td>...</td>\n",
       "      <td>...</td>\n",
       "    </tr>\n",
       "    <tr>\n",
       "      <th>53</th>\n",
       "      <td>ProductName</td>\n",
       "      <td>0</td>\n",
       "      <td>0.0000</td>\n",
       "      <td>5.0</td>\n",
       "      <td>Category</td>\n",
       "      <td>98.9276</td>\n",
       "      <td>1.0712</td>\n",
       "      <td>0.0006</td>\n",
       "    </tr>\n",
       "    <tr>\n",
       "      <th>54</th>\n",
       "      <td>HasTpm</td>\n",
       "      <td>0</td>\n",
       "      <td>0.0000</td>\n",
       "      <td>2.0</td>\n",
       "      <td>Binary</td>\n",
       "      <td>98.7822</td>\n",
       "      <td>1.2178</td>\n",
       "      <td>0.0000</td>\n",
       "    </tr>\n",
       "    <tr>\n",
       "      <th>55</th>\n",
       "      <td>OsBuild</td>\n",
       "      <td>0</td>\n",
       "      <td>0.0000</td>\n",
       "      <td>51.0</td>\n",
       "      <td>Category</td>\n",
       "      <td>43.8552</td>\n",
       "      <td>28.0736</td>\n",
       "      <td>8.7776</td>\n",
       "    </tr>\n",
       "    <tr>\n",
       "      <th>56</th>\n",
       "      <td>IsBeta</td>\n",
       "      <td>0</td>\n",
       "      <td>0.0000</td>\n",
       "      <td>2.0</td>\n",
       "      <td>Binary</td>\n",
       "      <td>99.9990</td>\n",
       "      <td>0.0010</td>\n",
       "      <td>0.0000</td>\n",
       "    </tr>\n",
       "    <tr>\n",
       "      <th>57</th>\n",
       "      <td>OsSuite</td>\n",
       "      <td>0</td>\n",
       "      <td>0.0000</td>\n",
       "      <td>10.0</td>\n",
       "      <td>Category</td>\n",
       "      <td>62.3958</td>\n",
       "      <td>37.4408</td>\n",
       "      <td>0.1342</td>\n",
       "    </tr>\n",
       "    <tr>\n",
       "      <th>58</th>\n",
       "      <td>IsSxsPassiveMode</td>\n",
       "      <td>0</td>\n",
       "      <td>0.0000</td>\n",
       "      <td>2.0</td>\n",
       "      <td>Binary</td>\n",
       "      <td>98.2714</td>\n",
       "      <td>1.7286</td>\n",
       "      <td>0.0000</td>\n",
       "    </tr>\n",
       "    <tr>\n",
       "      <th>59</th>\n",
       "      <td>HasDetections</td>\n",
       "      <td>0</td>\n",
       "      <td>0.0000</td>\n",
       "      <td>2.0</td>\n",
       "      <td>Binary</td>\n",
       "      <td>50.0768</td>\n",
       "      <td>49.9232</td>\n",
       "      <td>0.0000</td>\n",
       "    </tr>\n",
       "    <tr>\n",
       "      <th>60</th>\n",
       "      <td>SkuEdition</td>\n",
       "      <td>0</td>\n",
       "      <td>0.0000</td>\n",
       "      <td>8.0</td>\n",
       "      <td>Category</td>\n",
       "      <td>61.8734</td>\n",
       "      <td>36.0706</td>\n",
       "      <td>0.8900</td>\n",
       "    </tr>\n",
       "    <tr>\n",
       "      <th>61</th>\n",
       "      <td>Census_OSInstallTypeName</td>\n",
       "      <td>0</td>\n",
       "      <td>0.0000</td>\n",
       "      <td>9.0</td>\n",
       "      <td>Category</td>\n",
       "      <td>29.2514</td>\n",
       "      <td>18.4900</td>\n",
       "      <td>17.8704</td>\n",
       "    </tr>\n",
       "    <tr>\n",
       "      <th>62</th>\n",
       "      <td>Census_IsPenCapable</td>\n",
       "      <td>0</td>\n",
       "      <td>0.0000</td>\n",
       "      <td>2.0</td>\n",
       "      <td>Binary</td>\n",
       "      <td>96.2024</td>\n",
       "      <td>3.7976</td>\n",
       "      <td>0.0000</td>\n",
       "    </tr>\n",
       "    <tr>\n",
       "      <th>63</th>\n",
       "      <td>Census_IsTouchEnabled</td>\n",
       "      <td>0</td>\n",
       "      <td>0.0000</td>\n",
       "      <td>2.0</td>\n",
       "      <td>Binary</td>\n",
       "      <td>87.4224</td>\n",
       "      <td>12.5776</td>\n",
       "      <td>0.0000</td>\n",
       "    </tr>\n",
       "    <tr>\n",
       "      <th>64</th>\n",
       "      <td>Census_IsSecureBootEnabled</td>\n",
       "      <td>0</td>\n",
       "      <td>0.0000</td>\n",
       "      <td>2.0</td>\n",
       "      <td>Binary</td>\n",
       "      <td>51.3232</td>\n",
       "      <td>48.6768</td>\n",
       "      <td>0.0000</td>\n",
       "    </tr>\n",
       "    <tr>\n",
       "      <th>65</th>\n",
       "      <td>Census_FlightRing</td>\n",
       "      <td>0</td>\n",
       "      <td>0.0000</td>\n",
       "      <td>7.0</td>\n",
       "      <td>Category</td>\n",
       "      <td>93.6870</td>\n",
       "      <td>3.2054</td>\n",
       "      <td>2.7226</td>\n",
       "    </tr>\n",
       "    <tr>\n",
       "      <th>66</th>\n",
       "      <td>Census_ActivationChannel</td>\n",
       "      <td>0</td>\n",
       "      <td>0.0000</td>\n",
       "      <td>6.0</td>\n",
       "      <td>Category</td>\n",
       "      <td>52.9180</td>\n",
       "      <td>38.3650</td>\n",
       "      <td>5.0364</td>\n",
       "    </tr>\n",
       "    <tr>\n",
       "      <th>67</th>\n",
       "      <td>Census_GenuineStateName</td>\n",
       "      <td>0</td>\n",
       "      <td>0.0000</td>\n",
       "      <td>4.0</td>\n",
       "      <td>Category</td>\n",
       "      <td>88.3184</td>\n",
       "      <td>8.9656</td>\n",
       "      <td>2.5564</td>\n",
       "    </tr>\n",
       "    <tr>\n",
       "      <th>68</th>\n",
       "      <td>Census_IsPortableOperatingSystem</td>\n",
       "      <td>0</td>\n",
       "      <td>0.0000</td>\n",
       "      <td>2.0</td>\n",
       "      <td>Binary</td>\n",
       "      <td>99.9364</td>\n",
       "      <td>0.0636</td>\n",
       "      <td>0.0000</td>\n",
       "    </tr>\n",
       "    <tr>\n",
       "      <th>69</th>\n",
       "      <td>Census_OSWUAutoUpdateOptionsName</td>\n",
       "      <td>0</td>\n",
       "      <td>0.0000</td>\n",
       "      <td>6.0</td>\n",
       "      <td>Category</td>\n",
       "      <td>44.2476</td>\n",
       "      <td>28.3098</td>\n",
       "      <td>22.8370</td>\n",
       "    </tr>\n",
       "    <tr>\n",
       "      <th>70</th>\n",
       "      <td>Census_OSUILocaleIdentifier</td>\n",
       "      <td>0</td>\n",
       "      <td>0.0000</td>\n",
       "      <td>95.0</td>\n",
       "      <td>Category</td>\n",
       "      <td>35.5710</td>\n",
       "      <td>11.6820</td>\n",
       "      <td>5.7550</td>\n",
       "    </tr>\n",
       "    <tr>\n",
       "      <th>71</th>\n",
       "      <td>Census_OSSkuName</td>\n",
       "      <td>0</td>\n",
       "      <td>0.0000</td>\n",
       "      <td>20.0</td>\n",
       "      <td>Category</td>\n",
       "      <td>38.9920</td>\n",
       "      <td>35.6616</td>\n",
       "      <td>21.7634</td>\n",
       "    </tr>\n",
       "    <tr>\n",
       "      <th>72</th>\n",
       "      <td>AutoSampleOptIn</td>\n",
       "      <td>0</td>\n",
       "      <td>0.0000</td>\n",
       "      <td>2.0</td>\n",
       "      <td>Binary</td>\n",
       "      <td>99.9972</td>\n",
       "      <td>0.0028</td>\n",
       "      <td>0.0000</td>\n",
       "    </tr>\n",
       "    <tr>\n",
       "      <th>73</th>\n",
       "      <td>Census_OSEdition</td>\n",
       "      <td>0</td>\n",
       "      <td>0.0000</td>\n",
       "      <td>21.0</td>\n",
       "      <td>Category</td>\n",
       "      <td>38.9926</td>\n",
       "      <td>35.0216</td>\n",
       "      <td>21.7666</td>\n",
       "    </tr>\n",
       "    <tr>\n",
       "      <th>74</th>\n",
       "      <td>Census_OSBuildRevision</td>\n",
       "      <td>0</td>\n",
       "      <td>0.0000</td>\n",
       "      <td>235.0</td>\n",
       "      <td>Category</td>\n",
       "      <td>15.7988</td>\n",
       "      <td>10.1180</td>\n",
       "      <td>6.1030</td>\n",
       "    </tr>\n",
       "    <tr>\n",
       "      <th>75</th>\n",
       "      <td>Census_OSBuildNumber</td>\n",
       "      <td>0</td>\n",
       "      <td>0.0000</td>\n",
       "      <td>65.0</td>\n",
       "      <td>Category</td>\n",
       "      <td>44.8920</td>\n",
       "      <td>27.4062</td>\n",
       "      <td>8.9596</td>\n",
       "    </tr>\n",
       "    <tr>\n",
       "      <th>76</th>\n",
       "      <td>Census_OSBranch</td>\n",
       "      <td>0</td>\n",
       "      <td>0.0000</td>\n",
       "      <td>16.0</td>\n",
       "      <td>Category</td>\n",
       "      <td>44.8950</td>\n",
       "      <td>13.9466</td>\n",
       "      <td>13.3906</td>\n",
       "    </tr>\n",
       "    <tr>\n",
       "      <th>77</th>\n",
       "      <td>Census_OSArchitecture</td>\n",
       "      <td>0</td>\n",
       "      <td>0.0000</td>\n",
       "      <td>3.0</td>\n",
       "      <td>Category</td>\n",
       "      <td>90.9036</td>\n",
       "      <td>9.0916</td>\n",
       "      <td>0.0048</td>\n",
       "    </tr>\n",
       "    <tr>\n",
       "      <th>78</th>\n",
       "      <td>Census_OSVersion</td>\n",
       "      <td>0</td>\n",
       "      <td>0.0000</td>\n",
       "      <td>307.0</td>\n",
       "      <td>Category</td>\n",
       "      <td>15.7986</td>\n",
       "      <td>10.1178</td>\n",
       "      <td>6.1028</td>\n",
       "    </tr>\n",
       "    <tr>\n",
       "      <th>79</th>\n",
       "      <td>Census_HasOpticalDiskDrive</td>\n",
       "      <td>0</td>\n",
       "      <td>0.0000</td>\n",
       "      <td>2.0</td>\n",
       "      <td>Binary</td>\n",
       "      <td>92.3224</td>\n",
       "      <td>7.6776</td>\n",
       "      <td>0.0000</td>\n",
       "    </tr>\n",
       "    <tr>\n",
       "      <th>80</th>\n",
       "      <td>Census_DeviceFamily</td>\n",
       "      <td>0</td>\n",
       "      <td>0.0000</td>\n",
       "      <td>2.0</td>\n",
       "      <td>Binary</td>\n",
       "      <td>99.8384</td>\n",
       "      <td>0.1616</td>\n",
       "      <td>0.0000</td>\n",
       "    </tr>\n",
       "    <tr>\n",
       "      <th>81</th>\n",
       "      <td>Census_MDC2FormFactor</td>\n",
       "      <td>0</td>\n",
       "      <td>0.0000</td>\n",
       "      <td>12.0</td>\n",
       "      <td>Category</td>\n",
       "      <td>64.1532</td>\n",
       "      <td>21.8216</td>\n",
       "      <td>4.5778</td>\n",
       "    </tr>\n",
       "    <tr>\n",
       "      <th>82</th>\n",
       "      <td>MachineIdentifier</td>\n",
       "      <td>0</td>\n",
       "      <td>0.0000</td>\n",
       "      <td>500000.0</td>\n",
       "      <td>Category</td>\n",
       "      <td>0.0002</td>\n",
       "      <td>0.0002</td>\n",
       "      <td>0.0002</td>\n",
       "    </tr>\n",
       "  </tbody>\n",
       "</table>\n",
       "<p>83 rows × 8 columns</p>\n",
       "</div>"
      ],
      "text/plain": [
       "                                                index   Total  \\\n",
       "0                                             PuaMode  499878   \n",
       "1                               Census_ProcessorClass  497900   \n",
       "2                           DefaultBrowsersIdentifier  475698   \n",
       "3                          Census_IsFlightingInternal  415155   \n",
       "4                          Census_InternalBatteryType  355142   \n",
       "5                               Census_ThresholdOptIn  317513   \n",
       "6                             Census_IsWIMBootEnabled  317073   \n",
       "7                                         SmartScreen  178295   \n",
       "8                              OrganizationIdentifier  154358   \n",
       "9                                               SMode   30058   \n",
       "10                                     CityIdentifier   18209   \n",
       "11                                       Wdft_IsGamer   17091   \n",
       "12                              Wdft_RegionIdentifier   17091   \n",
       "13              Census_InternalBatteryNumberOfCharges   15125   \n",
       "14              Census_FirmwareManufacturerIdentifier   10260   \n",
       "15                   Census_FirmwareVersionIdentifier    8956   \n",
       "16                           Census_IsFlightsDisabled    8897   \n",
       "17                          Census_OEMModelIdentifier    5658   \n",
       "18                           Census_OEMNameIdentifier    5270   \n",
       "19                                           Firewall    5179   \n",
       "20                            Census_TotalPhysicalRAM    4530   \n",
       "21            Census_IsAlwaysOnAlwaysConnectedCapable    3974   \n",
       "22                                    IeVerIdentifier    3375   \n",
       "23                 Census_OSInstallLanguageIdentifier    3318   \n",
       "24                    Census_PrimaryDiskTotalCapacity    2966   \n",
       "25                   Census_SystemVolumeTotalCapacity    2966   \n",
       "26  Census_InternalPrimaryDiagonalDisplaySizeInInches    2740   \n",
       "27  Census_InternalPrimaryDisplayResolutionHorizontal    2734   \n",
       "28    Census_InternalPrimaryDisplayResolutionVertical    2734   \n",
       "29                    Census_ProcessorModelIdentifier    2350   \n",
       "..                                                ...     ...   \n",
       "53                                        ProductName       0   \n",
       "54                                             HasTpm       0   \n",
       "55                                            OsBuild       0   \n",
       "56                                             IsBeta       0   \n",
       "57                                            OsSuite       0   \n",
       "58                                   IsSxsPassiveMode       0   \n",
       "59                                      HasDetections       0   \n",
       "60                                         SkuEdition       0   \n",
       "61                           Census_OSInstallTypeName       0   \n",
       "62                                Census_IsPenCapable       0   \n",
       "63                              Census_IsTouchEnabled       0   \n",
       "64                         Census_IsSecureBootEnabled       0   \n",
       "65                                  Census_FlightRing       0   \n",
       "66                           Census_ActivationChannel       0   \n",
       "67                            Census_GenuineStateName       0   \n",
       "68                   Census_IsPortableOperatingSystem       0   \n",
       "69                   Census_OSWUAutoUpdateOptionsName       0   \n",
       "70                        Census_OSUILocaleIdentifier       0   \n",
       "71                                   Census_OSSkuName       0   \n",
       "72                                    AutoSampleOptIn       0   \n",
       "73                                   Census_OSEdition       0   \n",
       "74                             Census_OSBuildRevision       0   \n",
       "75                               Census_OSBuildNumber       0   \n",
       "76                                    Census_OSBranch       0   \n",
       "77                              Census_OSArchitecture       0   \n",
       "78                                   Census_OSVersion       0   \n",
       "79                         Census_HasOpticalDiskDrive       0   \n",
       "80                                Census_DeviceFamily       0   \n",
       "81                              Census_MDC2FormFactor       0   \n",
       "82                                  MachineIdentifier       0   \n",
       "\n",
       "    Percentage of Missing  Unique values      Type  1st Category  \\\n",
       "0                 99.9756            1.0  Category        0.0244   \n",
       "1                 99.5800            3.0  Category        0.2338   \n",
       "2                 95.1396          525.0  Category        0.5142   \n",
       "3                 83.0310            2.0    Binary       16.9688   \n",
       "4                 71.0284           28.0  Category       22.7218   \n",
       "5                 63.5026            2.0    Binary       36.4868   \n",
       "6                 63.4146            1.0  Category       36.5854   \n",
       "7                 35.6590           12.0  Category       48.3342   \n",
       "8                 30.8716           43.0  Category       47.0896   \n",
       "9                  6.0116            2.0    Binary       93.9454   \n",
       "10                 3.6418        37307.0  Category        1.0776   \n",
       "11                 3.4182            2.0    Binary       69.2856   \n",
       "12                 3.4182           15.0  Category       20.2052   \n",
       "13                 3.0250         5187.0   Numeric       56.5806   \n",
       "14                 2.0520          304.0  Category       30.2396   \n",
       "15                 1.7912        23544.0  Category        0.9934   \n",
       "16                 1.7794            2.0    Binary       98.2198   \n",
       "17                 1.1316        40892.0  Category        3.4186   \n",
       "18                 1.0540         1312.0  Category       14.4904   \n",
       "19                 1.0358            2.0    Binary       96.8354   \n",
       "20                 0.9060          561.0   Numeric       45.9574   \n",
       "21                 0.7948            2.0    Binary       93.5514   \n",
       "22                 0.6750          188.0  Category       43.5142   \n",
       "23                 0.6636           39.0  Category       35.6684   \n",
       "24                 0.5932         1133.0   Numeric       31.8812   \n",
       "25                 0.5932       142066.0   Numeric        0.5772   \n",
       "26                 0.5480          507.0   Numeric       34.1238   \n",
       "27                 0.5468          504.0   Numeric       50.6280   \n",
       "28                 0.5468          542.0   Numeric       55.7344   \n",
       "29                 0.4700         1791.0  Category        3.2510   \n",
       "..                    ...            ...       ...           ...   \n",
       "53                 0.0000            5.0  Category       98.9276   \n",
       "54                 0.0000            2.0    Binary       98.7822   \n",
       "55                 0.0000           51.0  Category       43.8552   \n",
       "56                 0.0000            2.0    Binary       99.9990   \n",
       "57                 0.0000           10.0  Category       62.3958   \n",
       "58                 0.0000            2.0    Binary       98.2714   \n",
       "59                 0.0000            2.0    Binary       50.0768   \n",
       "60                 0.0000            8.0  Category       61.8734   \n",
       "61                 0.0000            9.0  Category       29.2514   \n",
       "62                 0.0000            2.0    Binary       96.2024   \n",
       "63                 0.0000            2.0    Binary       87.4224   \n",
       "64                 0.0000            2.0    Binary       51.3232   \n",
       "65                 0.0000            7.0  Category       93.6870   \n",
       "66                 0.0000            6.0  Category       52.9180   \n",
       "67                 0.0000            4.0  Category       88.3184   \n",
       "68                 0.0000            2.0    Binary       99.9364   \n",
       "69                 0.0000            6.0  Category       44.2476   \n",
       "70                 0.0000           95.0  Category       35.5710   \n",
       "71                 0.0000           20.0  Category       38.9920   \n",
       "72                 0.0000            2.0    Binary       99.9972   \n",
       "73                 0.0000           21.0  Category       38.9926   \n",
       "74                 0.0000          235.0  Category       15.7988   \n",
       "75                 0.0000           65.0  Category       44.8920   \n",
       "76                 0.0000           16.0  Category       44.8950   \n",
       "77                 0.0000            3.0  Category       90.9036   \n",
       "78                 0.0000          307.0  Category       15.7986   \n",
       "79                 0.0000            2.0    Binary       92.3224   \n",
       "80                 0.0000            2.0    Binary       99.8384   \n",
       "81                 0.0000           12.0  Category       64.1532   \n",
       "82                 0.0000       500000.0  Category        0.0002   \n",
       "\n",
       "    2nd Category  3rd Category  \n",
       "0         0.0000        0.0000  \n",
       "1         0.1152        0.0710  \n",
       "2         0.4712        0.3148  \n",
       "3         0.0002        0.0000  \n",
       "4         2.7564        2.0848  \n",
       "5         0.0106        0.0000  \n",
       "6         0.0000        0.0000  \n",
       "7        11.7560        2.0916  \n",
       "8        19.6550        0.7226  \n",
       "9         0.0430        0.0000  \n",
       "10        0.9544        0.9346  \n",
       "11       27.2962        0.0000  \n",
       "12       15.0498       14.5226  \n",
       "13       25.3746        0.6050  \n",
       "14       13.8378       13.1604  \n",
       "15        0.7050        0.6242  \n",
       "16        0.0008        0.0000  \n",
       "17        2.9880        1.5434  \n",
       "18       11.6706       10.6004  \n",
       "19        2.1288        0.0000  \n",
       "20       24.5748       12.2516  \n",
       "21        5.6538        0.0000  \n",
       "22       19.7612        5.3712  \n",
       "23       11.5986        5.7444  \n",
       "24       24.3074        5.3104  \n",
       "25        0.5652        0.5028  \n",
       "26       10.7108        6.0490  \n",
       "27       24.9444        5.8540  \n",
       "28       24.1258        7.3258  \n",
       "29        3.0592        2.1904  \n",
       "..           ...           ...  \n",
       "53        1.0712        0.0006  \n",
       "54        1.2178        0.0000  \n",
       "55       28.0736        8.7776  \n",
       "56        0.0010        0.0000  \n",
       "57       37.4408        0.1342  \n",
       "58        1.7286        0.0000  \n",
       "59       49.9232        0.0000  \n",
       "60       36.0706        0.8900  \n",
       "61       18.4900       17.8704  \n",
       "62        3.7976        0.0000  \n",
       "63       12.5776        0.0000  \n",
       "64       48.6768        0.0000  \n",
       "65        3.2054        2.7226  \n",
       "66       38.3650        5.0364  \n",
       "67        8.9656        2.5564  \n",
       "68        0.0636        0.0000  \n",
       "69       28.3098       22.8370  \n",
       "70       11.6820        5.7550  \n",
       "71       35.6616       21.7634  \n",
       "72        0.0028        0.0000  \n",
       "73       35.0216       21.7666  \n",
       "74       10.1180        6.1030  \n",
       "75       27.4062        8.9596  \n",
       "76       13.9466       13.3906  \n",
       "77        9.0916        0.0048  \n",
       "78       10.1178        6.1028  \n",
       "79        7.6776        0.0000  \n",
       "80        0.1616        0.0000  \n",
       "81       21.8216        4.5778  \n",
       "82        0.0002        0.0002  \n",
       "\n",
       "[83 rows x 8 columns]"
      ]
     },
     "execution_count": 13,
     "metadata": {},
     "output_type": "execute_result"
    }
   ],
   "source": [
    "#%%time\n",
    "# checking missing data\n",
    "total = train.isnull().sum().sort_values(ascending = False)\n",
    "percent = (train.isnull().sum()/len(train)*100).sort_values(ascending = False)\n",
    "first = np.zeros(len(train.columns))\n",
    "second = np.zeros(len(train.columns))\n",
    "third = np.zeros(len(train.columns))\n",
    "typelist = list()\n",
    "num_unique = np.zeros(len(train.columns))\n",
    "for i, col in enumerate(total.index):\n",
    "    num_unique[i] = train[col].nunique()\n",
    "    typelist.append('Binary' if (col in binary_variables) else 'Numeric' if (col in true_numerical_columns) else 'Category')\n",
    "    first[i] = list(train[col].value_counts())[0]/len(train)*100\n",
    "    second[i] = list(train[col].value_counts())[1]/len(train)*100 if train[col].nunique()>1 else 0\n",
    "    third[i] = list(train[col].value_counts())[2]/len(train)*100 if train[col].nunique()>2 else 0\n",
    "\n",
    "typelistdf = pd.DataFrame(data ={'Type': typelist})\n",
    "firstdf = pd.DataFrame(data ={'1st Category':first})\n",
    "seconddf = pd.DataFrame(data={'2nd Category':second})\n",
    "thirddf = pd.DataFrame(data={'3rd Category':third})\n",
    "num_uniquedf = pd.DataFrame(data={'Unique values': num_unique})\n",
    "missing_train_data  = pd.concat([total, percent], \n",
    "                                axis=1, keys=['Total', 'Percentage of Missing']).reset_index()\n",
    "missing_train_data = pd.concat([missing_train_data, num_uniquedf, typelistdf, firstdf, seconddf, thirddf], axis=1)\n",
    "missing_train_data.head(len(train.columns))"
   ]
  },
  {
   "cell_type": "code",
   "execution_count": 68,
   "metadata": {},
   "outputs": [
    {
     "data": {
      "text/plain": [
       "Windows.Desktop    499192\n",
       "Windows.Server        808\n",
       "Name: Census_DeviceFamily, dtype: int64"
      ]
     },
     "execution_count": 68,
     "metadata": {},
     "output_type": "execute_result"
    }
   ],
   "source": [
    "train.Census_DeviceFamily.value_counts()"
   ]
  },
  {
   "cell_type": "markdown",
   "metadata": {},
   "source": [
    "+ PuaMode, Census_ProcessorClass, DefaultBrowsersIdentifier, Census_IsFlightingInternal, Census_InternalBatteryType, Census_ThresholdOptIn, and Census_IsWIMBootEnabled have over 60% null data.\n",
    "+ Let's examine these features first and check their distribution regarding to the target."
   ]
  },
  {
   "cell_type": "markdown",
   "metadata": {},
   "source": [
    "### 2.3.1 PuaMode: Categorical\n",
    "#### Description: Pua Enabled mode from the service\n",
    "\n",
    "This feature has only 1 unique value and about %99.98 of it is missing. The best thing to do is just to remove it."
   ]
  },
  {
   "cell_type": "code",
   "execution_count": 14,
   "metadata": {},
   "outputs": [],
   "source": [
    "del train['PuaMode']\n",
    "categorical_columns.remove('PuaMode')"
   ]
  },
  {
   "cell_type": "markdown",
   "metadata": {},
   "source": [
    "### 2.3.2 Census_ProcessorClass: Categorical\n",
    "#### Description: A classification of processors into high/medium/low. Initially used for Pricing Level SKU. No longer maintained and updated\n",
    "+ The last sentence is telling us why we have so many missing data"
   ]
  },
  {
   "cell_type": "code",
   "execution_count": 15,
   "metadata": {},
   "outputs": [
    {
     "data": {
      "application/vnd.plotly.v1+json": {
       "config": {
        "linkText": "Export to plot.ly",
        "plotlyServerURL": "https://plot.ly",
        "showLink": true
       },
       "data": [
        {
         "name": "Has Detections",
         "type": "bar",
         "uid": "bd63229e-a6d3-42aa-b3f1-089bb0c8cccb",
         "x": [
          "missing",
          "mid",
          "low",
          "high"
         ],
         "y": [
          0.5005683872263507,
          0.5705731394354149,
          0.4704861111111111,
          0.6
         ]
        },
        {
         "name": "No Detections",
         "type": "bar",
         "uid": "42593659-85a1-4dae-8233-4be69d2980c1",
         "x": [
          "missing",
          "mid",
          "low",
          "high"
         ],
         "y": [
          0.49943161277364934,
          0.4294268605645851,
          0.5295138888888888,
          0.4
         ]
        }
       ],
       "layout": {
        "barmode": "group"
       }
      },
      "text/html": [
       "<div id=\"d4ce2758-ca30-4162-9718-d33e26d680c2\" style=\"height: 525px; width: 100%;\" class=\"plotly-graph-div\"></div><script type=\"text/javascript\">require([\"plotly\"], function(Plotly) { window.PLOTLYENV=window.PLOTLYENV || {};window.PLOTLYENV.BASE_URL=\"https://plot.ly\";Plotly.newPlot(\"d4ce2758-ca30-4162-9718-d33e26d680c2\", [{\"name\": \"Has Detections\", \"x\": [\"missing\", \"mid\", \"low\", \"high\"], \"y\": [0.5005683872263507, 0.5705731394354149, 0.4704861111111111, 0.6], \"type\": \"bar\", \"uid\": \"bd63229e-a6d3-42aa-b3f1-089bb0c8cccb\"}, {\"name\": \"No Detections\", \"x\": [\"missing\", \"mid\", \"low\", \"high\"], \"y\": [0.49943161277364934, 0.4294268605645851, 0.5295138888888888, 0.4], \"type\": \"bar\", \"uid\": \"42593659-85a1-4dae-8233-4be69d2980c1\"}], {\"barmode\": \"group\"}, {\"showLink\": true, \"linkText\": \"Export to plot.ly\", \"plotlyServerURL\": \"https://plot.ly\"})});</script><script type=\"text/javascript\">window.addEventListener(\"resize\", function(){window._Plotly.Plots.resize(document.getElementById(\"d4ce2758-ca30-4162-9718-d33e26d680c2\"));});</script>"
      ],
      "text/vnd.plotly.v1+html": [
       "<div id=\"d4ce2758-ca30-4162-9718-d33e26d680c2\" style=\"height: 525px; width: 100%;\" class=\"plotly-graph-div\"></div><script type=\"text/javascript\">require([\"plotly\"], function(Plotly) { window.PLOTLYENV=window.PLOTLYENV || {};window.PLOTLYENV.BASE_URL=\"https://plot.ly\";Plotly.newPlot(\"d4ce2758-ca30-4162-9718-d33e26d680c2\", [{\"name\": \"Has Detections\", \"x\": [\"missing\", \"mid\", \"low\", \"high\"], \"y\": [0.5005683872263507, 0.5705731394354149, 0.4704861111111111, 0.6], \"type\": \"bar\", \"uid\": \"bd63229e-a6d3-42aa-b3f1-089bb0c8cccb\"}, {\"name\": \"No Detections\", \"x\": [\"missing\", \"mid\", \"low\", \"high\"], \"y\": [0.49943161277364934, 0.4294268605645851, 0.5295138888888888, 0.4], \"type\": \"bar\", \"uid\": \"42593659-85a1-4dae-8233-4be69d2980c1\"}], {\"barmode\": \"group\"}, {\"showLink\": true, \"linkText\": \"Export to plot.ly\", \"plotlyServerURL\": \"https://plot.ly\"})});</script><script type=\"text/javascript\">window.addEventListener(\"resize\", function(){window._Plotly.Plots.resize(document.getElementById(\"d4ce2758-ca30-4162-9718-d33e26d680c2\"));});</script>"
      ]
     },
     "metadata": {},
     "output_type": "display_data"
    },
    {
     "data": {
      "application/vnd.plotly.v1+json": {
       "config": {
        "linkText": "Export to plot.ly",
        "plotlyServerURL": "https://plot.ly",
        "showLink": true
       },
       "data": [
        {
         "labels": [
          "missing",
          "mid",
          "low",
          "high"
         ],
         "type": "pie",
         "uid": "a7c7cca9-e963-49c0-9805-b6919076980c",
         "values": [
          497900,
          1169,
          576,
          355
         ]
        }
       ],
       "layout": {}
      },
      "text/html": [
       "<div id=\"61faaea3-dd92-4528-b92c-641c57c1011f\" style=\"height: 525px; width: 100%;\" class=\"plotly-graph-div\"></div><script type=\"text/javascript\">require([\"plotly\"], function(Plotly) { window.PLOTLYENV=window.PLOTLYENV || {};window.PLOTLYENV.BASE_URL=\"https://plot.ly\";Plotly.newPlot(\"61faaea3-dd92-4528-b92c-641c57c1011f\", [{\"labels\": [\"missing\", \"mid\", \"low\", \"high\"], \"values\": [497900, 1169, 576, 355], \"type\": \"pie\", \"uid\": \"a7c7cca9-e963-49c0-9805-b6919076980c\"}], {}, {\"showLink\": true, \"linkText\": \"Export to plot.ly\", \"plotlyServerURL\": \"https://plot.ly\"})});</script><script type=\"text/javascript\">window.addEventListener(\"resize\", function(){window._Plotly.Plots.resize(document.getElementById(\"61faaea3-dd92-4528-b92c-641c57c1011f\"));});</script>"
      ],
      "text/vnd.plotly.v1+html": [
       "<div id=\"61faaea3-dd92-4528-b92c-641c57c1011f\" style=\"height: 525px; width: 100%;\" class=\"plotly-graph-div\"></div><script type=\"text/javascript\">require([\"plotly\"], function(Plotly) { window.PLOTLYENV=window.PLOTLYENV || {};window.PLOTLYENV.BASE_URL=\"https://plot.ly\";Plotly.newPlot(\"61faaea3-dd92-4528-b92c-641c57c1011f\", [{\"labels\": [\"missing\", \"mid\", \"low\", \"high\"], \"values\": [497900, 1169, 576, 355], \"type\": \"pie\", \"uid\": \"a7c7cca9-e963-49c0-9805-b6919076980c\"}], {}, {\"showLink\": true, \"linkText\": \"Export to plot.ly\", \"plotlyServerURL\": \"https://plot.ly\"})});</script><script type=\"text/javascript\">window.addEventListener(\"resize\", function(){window._Plotly.Plots.resize(document.getElementById(\"61faaea3-dd92-4528-b92c-641c57c1011f\"));});</script>"
      ]
     },
     "metadata": {},
     "output_type": "display_data"
    }
   ],
   "source": [
    "d = train[['Census_ProcessorClass', 'HasDetections']]\n",
    "d = d.astype('object').fillna(\"missing\")\n",
    "infected = list()\n",
    "\n",
    "for item in d.Census_ProcessorClass.unique().tolist():\n",
    "        a = (d.Census_ProcessorClass==item).sum()\n",
    "        infected.append((d[d['Census_ProcessorClass']==item][\"HasDetections\"]==1).sum()/a)\n",
    "        \n",
    "oneclass = np.array(infected)\n",
    "zeroclass = 1 - oneclass\n",
    "\n",
    "trace1 = go.Bar(x=d.Census_ProcessorClass.value_counts().index.tolist(), y=oneclass.tolist(), name= 'Has Detections')\n",
    "trace2 = go.Bar(x=d.Census_ProcessorClass.value_counts().index.tolist(), y=zeroclass.tolist(),name='No Detections')\n",
    "trace3 = go.Pie(labels=d.Census_ProcessorClass.unique().tolist(), values=d.Census_ProcessorClass.value_counts().tolist())\n",
    "\n",
    "data = [trace1, trace2]\n",
    "layout = go.Layout(barmode='group')\n",
    "\n",
    "fig = go.Figure(data=data, layout=layout)\n",
    "iplot(fig)\n",
    "\n",
    "data=[trace3]\n",
    "layout = go.Layout()\n",
    "fig=go.Figure(data=data, layout=layout)\n",
    "iplot(fig)"
   ]
  },
  {
   "cell_type": "markdown",
   "metadata": {},
   "source": [
    "Though there is a lot of missing data, I will keep this feature because if you noticed as processor class goes up, the chance of infection increases too. So, this feature might be helpful in combination with other features."
   ]
  },
  {
   "cell_type": "markdown",
   "metadata": {},
   "source": [
    "### 2.3.3 DefaultBrosersIdentifier: Categorical\n",
    "#### Description: ID for the machine's default browser"
   ]
  },
  {
   "cell_type": "code",
   "execution_count": 142,
   "metadata": {},
   "outputs": [
    {
     "data": {
      "image/png": "[encoded data removed]",
      "text/plain": [
       "<Figure size 432x288 with 1 Axes>"
      ]
     },
     "metadata": {
      "needs_background": "light"
     },
     "output_type": "display_data"
    }
   ],
   "source": [
    "sns.kdeplot(train.loc[train['HasDetections'] == 0, 'DefaultBrowsersIdentifier'], label='NoDetection(0)')\n",
    "sns.kdeplot(train.loc[train['HasDetections'] == 1, 'DefaultBrowsersIdentifier'], label='HasDetection(1)')\n",
    "plt.show()"
   ]
  },
  {
   "cell_type": "markdown",
   "metadata": {},
   "source": [
    "Since the two plots are not the same, this feature is informative for our model. so we'll keep it."
   ]
  },
  {
   "cell_type": "markdown",
   "metadata": {},
   "source": [
    "### 2.3.4 Census_IsFightingInternal: Binary\n",
    "#### Description: NA"
   ]
  },
  {
   "cell_type": "code",
   "execution_count": 16,
   "metadata": {},
   "outputs": [
    {
     "data": {
      "text/plain": [
       "0.0    84844\n",
       "1.0        1\n",
       "Name: Census_IsFlightingInternal, dtype: int64"
      ]
     },
     "execution_count": 16,
     "metadata": {},
     "output_type": "execute_result"
    }
   ],
   "source": [
    "train.Census_IsFlightingInternal.value_counts()"
   ]
  },
  {
   "cell_type": "markdown",
   "metadata": {},
   "source": [
    "More than 80 percent of this feature is missing and the rest of it has almost only 1 value. Hence, it's just a waste of memory."
   ]
  },
  {
   "cell_type": "code",
   "execution_count": 17,
   "metadata": {},
   "outputs": [],
   "source": [
    "del train['Census_IsFlightingInternal']\n",
    "binary_variables.remove('Census_IsFlightingInternal')"
   ]
  },
  {
   "cell_type": "markdown",
   "metadata": {},
   "source": [
    "### 2.3.5 Census_InternalBatteryType: Categorical\n",
    "#### Description: NA"
   ]
  },
  {
   "cell_type": "code",
   "execution_count": 18,
   "metadata": {},
   "outputs": [
    {
     "data": {
      "text/plain": [
       "lion    113609\n",
       "li-i     13782\n",
       "#        10424\n",
       "lip       3530\n",
       "liio      1854\n",
       "li p       448\n",
       "li         371\n",
       "nimh       256\n",
       "real       148\n",
       "pbac       127\n",
       "bq20       120\n",
       "vbox        86\n",
       "unkn        22\n",
       "lgi0        21\n",
       "lipp        12\n",
       "lipo        12\n",
       "4cel         9\n",
       "lhp0         6\n",
       "batt         5\n",
       "ithi         4\n",
       "bad          3\n",
       "ram          2\n",
       "virt         2\n",
       "ca48         1\n",
       "lit          1\n",
       "a140         1\n",
       "asmb         1\n",
       "\u0004lio         1\n",
       "Name: Census_InternalBatteryType, dtype: int64"
      ]
     },
     "execution_count": 18,
     "metadata": {},
     "output_type": "execute_result"
    }
   ],
   "source": [
    "train. Census_InternalBatteryType.value_counts()"
   ]
  },
  {
   "cell_type": "markdown",
   "metadata": {
    "_uuid": "fec10635dc57ca66edf9600bed8a4eca5958f780"
   },
   "source": [
    "<a id=\"2\"></a> <br>\n",
    "## 3. Feature Engineering\n",
    "<a id=\"3.1\"></a> <br>\n",
    "### 3.1 Frequency encoding\n",
    "For variables with large cardinality, an efficient encoding consists in ranking the categories with respect to their frequencies. These variables are then treated as numerical."
   ]
  },
  {
   "cell_type": "code",
   "execution_count": 19,
   "metadata": {
    "_kg_hide-input": true,
    "_uuid": "d8cc8d69a682a1a753c82ee69b6a3fc26c99ec3a"
   },
   "outputs": [],
   "source": [
    "def frequency_encoding(variable, df):\n",
    "    #t = pd.concat([train[variable], test[variable]]).value_counts().reset_index()\n",
    "    if(df==1):\n",
    "        t = train[variable].value_counts().reset_index()\n",
    "    else:\n",
    "        t = test[variable].value_counts().reset_index()\n",
    "    t = t.reset_index()\n",
    "    t.loc[t[variable] == 1, 'level_0'] = np.nan\n",
    "    t.set_index('index', inplace=True)\n",
    "    max_label = t['level_0'].max() + 1\n",
    "    t.fillna(max_label, inplace=True)\n",
    "    return t.to_dict()['level_0']"
   ]
  },
  {
   "cell_type": "code",
   "execution_count": 20,
   "metadata": {
    "_uuid": "5d59541ddae08fc488b48b36d426ab9ec43ebd60"
   },
   "outputs": [],
   "source": [
    "frequency_encoded_variables = [\n",
    "    'Census_OEMModelIdentifier',\n",
    "    'CityIdentifier',\n",
    "    'Census_FirmwareVersionIdentifier',\n",
    "    'AvSigVersion',\n",
    "    'Census_ProcessorModelIdentifier',\n",
    "    'Census_OEMNameIdentifier',\n",
    "    'AVProductStatesIdentifier',# I added this one\n",
    "    'DefaultBrowsersIdentifier'# And deleted this one\n",
    "]\n",
    "\n"
   ]
  },
  {
   "cell_type": "code",
   "execution_count": null,
   "metadata": {},
   "outputs": [],
   "source": []
  },
  {
   "cell_type": "code",
   "execution_count": 21,
   "metadata": {
    "_uuid": "8c18a1d420eeb72f8dfac35e2f9ce7bde823f66b"
   },
   "outputs": [
    {
     "name": "stderr",
     "output_type": "stream",
     "text": [
      "100%|████████████████████████████████████████████████████████████████████████████████████| 8/8 [00:02<00:00,  3.24it/s]\n"
     ]
    }
   ],
   "source": [
    "train_categorical_columns = categorical_columns.copy()\n",
    "test_categorical_columns = categorical_columns.copy()\n",
    "for variable in tqdm(frequency_encoded_variables):\n",
    "    freq_enc_dict = frequency_encoding(variable, 1)\n",
    "    train[variable] = train[variable].map(lambda x: freq_enc_dict.get(x, np.nan))\n",
    "    #test[variable] = test[variable].map(lambda x: freq_enc_dict.get(x, np.nan))\n",
    "    train_categorical_columns.remove(variable)"
   ]
  },
  {
   "cell_type": "markdown",
   "metadata": {
    "_uuid": "a1355051b9350acb3f0bd3cc14f52f47082e0756"
   },
   "source": [
    "<a id=\"3.2\"></a> <br>\n",
    "### 3.2 Label encoding"
   ]
  },
  {
   "cell_type": "code",
   "execution_count": 27,
   "metadata": {
    "_uuid": "aeaee3fb3eb7473f51f473d9b4c7264b8c91ce24"
   },
   "outputs": [
    {
     "name": "stderr",
     "output_type": "stream",
     "text": [
      "100%|██████████████████████████████████████████████████████████████████████████████████| 39/39 [00:01<00:00, 21.30it/s]\n"
     ]
    }
   ],
   "source": [
    "#for col in tqdm(train_categorical_columns):\n",
    "#    if col == 'MachineIdentifier': continue\n",
    "#    train[col] = pd.factorize(train[col], sort=True)[0].astype('int32')"
   ]
  },
  {
   "cell_type": "code",
   "execution_count": 22,
   "metadata": {
    "_uuid": "8eec30f337f6893ed6ae0cdb348595e0b701eef2"
   },
   "outputs": [
    {
     "name": "stderr",
     "output_type": "stream",
     "text": [
      "100%|██████████████████████████████████████████████████████████████████████████████████| 39/39 [00:00<00:00, 56.64it/s]\n",
      "100%|██████████████████████████████████████████████████████████████████████████████████| 39/39 [00:07<00:00,  4.69it/s]\n"
     ]
    }
   ],
   "source": [
    "\n",
    "indexer = {}\n",
    "for col in tqdm(train_categorical_columns):\n",
    "    if col == 'MachineIdentifier': continue\n",
    "    _, indexer[col] = pd.factorize(train[col])\n",
    "    \n",
    "for col in tqdm(train_categorical_columns):\n",
    "    if col == 'MachineIdentifier': continue\n",
    "    train[col] = indexer[col].get_indexer(train[col])\n",
    "    #test[col] = indexer[col].get_indexer(test[col])\n"
   ]
  },
  {
   "cell_type": "code",
   "execution_count": null,
   "metadata": {
    "_uuid": "78071071226170c73f8aedc5de4bab02ac1dfcfb"
   },
   "outputs": [],
   "source": [
    "#train.groupby('Processor')['Processor'].transform('count')\n",
    "gc.collect()"
   ]
  },
  {
   "cell_type": "code",
   "execution_count": null,
   "metadata": {
    "_uuid": "d775fe4c17b5c49a83bae1be7f5966f3d74313f6"
   },
   "outputs": [],
   "source": [
    "#train_new = train.copy()"
   ]
  },
  {
   "cell_type": "code",
   "execution_count": null,
   "metadata": {
    "_uuid": "eb55e586f1a273b517a5bbe707b215de8bfb9333"
   },
   "outputs": [],
   "source": [
    "\"\"\"\n",
    "count_cols = [\"Processor\", \"Census_PrimaryDiskTypeName\", \"Census_OSArchitecture\", \n",
    "             \"Census_OSInstallTypeName\", \"Census_OSWUAutoUpdateOptionsName\",\n",
    "             \"AVProductsInstalled\", \"AVProductsEnabled\"]\n",
    "#for col in count_cols:\n",
    "for col in categorical_columns:\n",
    "    train_new[col+\"_count\"] = train_new.groupby(col)[col].transform('count')\n",
    "    \"\"\""
   ]
  },
  {
   "cell_type": "code",
   "execution_count": null,
   "metadata": {
    "_uuid": "2f83f2493238aaa72e2bd6ad3906a628e53c063e"
   },
   "outputs": [],
   "source": [
    "#len(train_new.columns)"
   ]
  },
  {
   "cell_type": "code",
   "execution_count": null,
   "metadata": {
    "_uuid": "e19dd1163514b2cc3f4fe7b15b2e1d482d693f26"
   },
   "outputs": [],
   "source": [
    "#count_cols = [\"Processor_count\", \"Census_PrimaryDiskTypeName_count\", \"Census_OSArchitecture_count\", \n",
    "#             \"Census_OSInstallTypeName_count\", \"Census_OSWUAutoUpdateOptionsName_count\",\n",
    "#             \"AVProductsInstalled_count\", \"AVProductsEnabled_count\"]\n",
    "#train.drop(columns=count_cols, inplace=True)"
   ]
  },
  {
   "cell_type": "code",
   "execution_count": 23,
   "metadata": {
    "_uuid": "e30b4a83f31c0ee16c5d628438bb3dc2d123ca8e"
   },
   "outputs": [
    {
     "name": "stdout",
     "output_type": "stream",
     "text": [
      "Mem. usage decreased to 35.72 Mb (74.5% reduction)\n"
     ]
    }
   ],
   "source": [
    "train = reduce_mem_usage(train)"
   ]
  },
  {
   "cell_type": "code",
   "execution_count": 24,
   "metadata": {
    "_uuid": "b24463c6a0bf3603b5cff08702910f82dece28f3"
   },
   "outputs": [
    {
     "ename": "KeyError",
     "evalue": "'HasDetections'",
     "output_type": "error",
     "traceback": [
      "\u001b[1;31m---------------------------------------------------------------------------\u001b[0m",
      "\u001b[1;31mKeyError\u001b[0m                                  Traceback (most recent call last)",
      "\u001b[1;32m~\\Anaconda3\\lib\\site-packages\\pandas\\core\\indexes\\base.py\u001b[0m in \u001b[0;36mget_loc\u001b[1;34m(self, key, method, tolerance)\u001b[0m\n\u001b[0;32m   3077\u001b[0m             \u001b[1;32mtry\u001b[0m\u001b[1;33m:\u001b[0m\u001b[1;33m\u001b[0m\u001b[0m\n\u001b[1;32m-> 3078\u001b[1;33m                 \u001b[1;32mreturn\u001b[0m \u001b[0mself\u001b[0m\u001b[1;33m.\u001b[0m\u001b[0m_engine\u001b[0m\u001b[1;33m.\u001b[0m\u001b[0mget_loc\u001b[0m\u001b[1;33m(\u001b[0m\u001b[0mkey\u001b[0m\u001b[1;33m)\u001b[0m\u001b[1;33m\u001b[0m\u001b[0m\n\u001b[0m\u001b[0;32m   3079\u001b[0m             \u001b[1;32mexcept\u001b[0m \u001b[0mKeyError\u001b[0m\u001b[1;33m:\u001b[0m\u001b[1;33m\u001b[0m\u001b[0m\n",
      "\u001b[1;32mpandas\\_libs\\index.pyx\u001b[0m in \u001b[0;36mpandas._libs.index.IndexEngine.get_loc\u001b[1;34m()\u001b[0m\n",
      "\u001b[1;32mpandas\\_libs\\index.pyx\u001b[0m in \u001b[0;36mpandas._libs.index.IndexEngine.get_loc\u001b[1;34m()\u001b[0m\n",
      "\u001b[1;32mpandas\\_libs\\hashtable_class_helper.pxi\u001b[0m in \u001b[0;36mpandas._libs.hashtable.PyObjectHashTable.get_item\u001b[1;34m()\u001b[0m\n",
      "\u001b[1;32mpandas\\_libs\\hashtable_class_helper.pxi\u001b[0m in \u001b[0;36mpandas._libs.hashtable.PyObjectHashTable.get_item\u001b[1;34m()\u001b[0m\n",
      "\u001b[1;31mKeyError\u001b[0m: 'HasDetections'",
      "\nDuring handling of the above exception, another exception occurred:\n",
      "\u001b[1;31mKeyError\u001b[0m                                  Traceback (most recent call last)",
      "\u001b[1;32m<ipython-input-24-5c42ac403a82>\u001b[0m in \u001b[0;36m<module>\u001b[1;34m()\u001b[0m\n\u001b[1;32m----> 1\u001b[1;33m \u001b[0mtarget\u001b[0m \u001b[1;33m=\u001b[0m \u001b[0mtrain\u001b[0m\u001b[1;33m[\u001b[0m\u001b[1;34m'HasDetections'\u001b[0m\u001b[1;33m]\u001b[0m\u001b[1;33m\u001b[0m\u001b[0m\n\u001b[0m\u001b[0;32m      2\u001b[0m \u001b[1;32mdel\u001b[0m \u001b[0mtrain\u001b[0m\u001b[1;33m[\u001b[0m\u001b[1;34m'HasDetections'\u001b[0m\u001b[1;33m]\u001b[0m\u001b[1;33m\u001b[0m\u001b[0m\n",
      "\u001b[1;32m~\\Anaconda3\\lib\\site-packages\\pandas\\core\\frame.py\u001b[0m in \u001b[0;36m__getitem__\u001b[1;34m(self, key)\u001b[0m\n\u001b[0;32m   2686\u001b[0m             \u001b[1;32mreturn\u001b[0m \u001b[0mself\u001b[0m\u001b[1;33m.\u001b[0m\u001b[0m_getitem_multilevel\u001b[0m\u001b[1;33m(\u001b[0m\u001b[0mkey\u001b[0m\u001b[1;33m)\u001b[0m\u001b[1;33m\u001b[0m\u001b[0m\n\u001b[0;32m   2687\u001b[0m         \u001b[1;32melse\u001b[0m\u001b[1;33m:\u001b[0m\u001b[1;33m\u001b[0m\u001b[0m\n\u001b[1;32m-> 2688\u001b[1;33m             \u001b[1;32mreturn\u001b[0m \u001b[0mself\u001b[0m\u001b[1;33m.\u001b[0m\u001b[0m_getitem_column\u001b[0m\u001b[1;33m(\u001b[0m\u001b[0mkey\u001b[0m\u001b[1;33m)\u001b[0m\u001b[1;33m\u001b[0m\u001b[0m\n\u001b[0m\u001b[0;32m   2689\u001b[0m \u001b[1;33m\u001b[0m\u001b[0m\n\u001b[0;32m   2690\u001b[0m     \u001b[1;32mdef\u001b[0m \u001b[0m_getitem_column\u001b[0m\u001b[1;33m(\u001b[0m\u001b[0mself\u001b[0m\u001b[1;33m,\u001b[0m \u001b[0mkey\u001b[0m\u001b[1;33m)\u001b[0m\u001b[1;33m:\u001b[0m\u001b[1;33m\u001b[0m\u001b[0m\n",
      "\u001b[1;32m~\\Anaconda3\\lib\\site-packages\\pandas\\core\\frame.py\u001b[0m in \u001b[0;36m_getitem_column\u001b[1;34m(self, key)\u001b[0m\n\u001b[0;32m   2693\u001b[0m         \u001b[1;31m# get column\u001b[0m\u001b[1;33m\u001b[0m\u001b[1;33m\u001b[0m\u001b[0m\n\u001b[0;32m   2694\u001b[0m         \u001b[1;32mif\u001b[0m \u001b[0mself\u001b[0m\u001b[1;33m.\u001b[0m\u001b[0mcolumns\u001b[0m\u001b[1;33m.\u001b[0m\u001b[0mis_unique\u001b[0m\u001b[1;33m:\u001b[0m\u001b[1;33m\u001b[0m\u001b[0m\n\u001b[1;32m-> 2695\u001b[1;33m             \u001b[1;32mreturn\u001b[0m \u001b[0mself\u001b[0m\u001b[1;33m.\u001b[0m\u001b[0m_get_item_cache\u001b[0m\u001b[1;33m(\u001b[0m\u001b[0mkey\u001b[0m\u001b[1;33m)\u001b[0m\u001b[1;33m\u001b[0m\u001b[0m\n\u001b[0m\u001b[0;32m   2696\u001b[0m \u001b[1;33m\u001b[0m\u001b[0m\n\u001b[0;32m   2697\u001b[0m         \u001b[1;31m# duplicate columns & possible reduce dimensionality\u001b[0m\u001b[1;33m\u001b[0m\u001b[1;33m\u001b[0m\u001b[0m\n",
      "\u001b[1;32m~\\Anaconda3\\lib\\site-packages\\pandas\\core\\generic.py\u001b[0m in \u001b[0;36m_get_item_cache\u001b[1;34m(self, item)\u001b[0m\n\u001b[0;32m   2487\u001b[0m         \u001b[0mres\u001b[0m \u001b[1;33m=\u001b[0m \u001b[0mcache\u001b[0m\u001b[1;33m.\u001b[0m\u001b[0mget\u001b[0m\u001b[1;33m(\u001b[0m\u001b[0mitem\u001b[0m\u001b[1;33m)\u001b[0m\u001b[1;33m\u001b[0m\u001b[0m\n\u001b[0;32m   2488\u001b[0m         \u001b[1;32mif\u001b[0m \u001b[0mres\u001b[0m \u001b[1;32mis\u001b[0m \u001b[1;32mNone\u001b[0m\u001b[1;33m:\u001b[0m\u001b[1;33m\u001b[0m\u001b[0m\n\u001b[1;32m-> 2489\u001b[1;33m             \u001b[0mvalues\u001b[0m \u001b[1;33m=\u001b[0m \u001b[0mself\u001b[0m\u001b[1;33m.\u001b[0m\u001b[0m_data\u001b[0m\u001b[1;33m.\u001b[0m\u001b[0mget\u001b[0m\u001b[1;33m(\u001b[0m\u001b[0mitem\u001b[0m\u001b[1;33m)\u001b[0m\u001b[1;33m\u001b[0m\u001b[0m\n\u001b[0m\u001b[0;32m   2490\u001b[0m             \u001b[0mres\u001b[0m \u001b[1;33m=\u001b[0m \u001b[0mself\u001b[0m\u001b[1;33m.\u001b[0m\u001b[0m_box_item_values\u001b[0m\u001b[1;33m(\u001b[0m\u001b[0mitem\u001b[0m\u001b[1;33m,\u001b[0m \u001b[0mvalues\u001b[0m\u001b[1;33m)\u001b[0m\u001b[1;33m\u001b[0m\u001b[0m\n\u001b[0;32m   2491\u001b[0m             \u001b[0mcache\u001b[0m\u001b[1;33m[\u001b[0m\u001b[0mitem\u001b[0m\u001b[1;33m]\u001b[0m \u001b[1;33m=\u001b[0m \u001b[0mres\u001b[0m\u001b[1;33m\u001b[0m\u001b[0m\n",
      "\u001b[1;32m~\\Anaconda3\\lib\\site-packages\\pandas\\core\\internals.py\u001b[0m in \u001b[0;36mget\u001b[1;34m(self, item, fastpath)\u001b[0m\n\u001b[0;32m   4113\u001b[0m \u001b[1;33m\u001b[0m\u001b[0m\n\u001b[0;32m   4114\u001b[0m             \u001b[1;32mif\u001b[0m \u001b[1;32mnot\u001b[0m \u001b[0misna\u001b[0m\u001b[1;33m(\u001b[0m\u001b[0mitem\u001b[0m\u001b[1;33m)\u001b[0m\u001b[1;33m:\u001b[0m\u001b[1;33m\u001b[0m\u001b[0m\n\u001b[1;32m-> 4115\u001b[1;33m                 \u001b[0mloc\u001b[0m \u001b[1;33m=\u001b[0m \u001b[0mself\u001b[0m\u001b[1;33m.\u001b[0m\u001b[0mitems\u001b[0m\u001b[1;33m.\u001b[0m\u001b[0mget_loc\u001b[0m\u001b[1;33m(\u001b[0m\u001b[0mitem\u001b[0m\u001b[1;33m)\u001b[0m\u001b[1;33m\u001b[0m\u001b[0m\n\u001b[0m\u001b[0;32m   4116\u001b[0m             \u001b[1;32melse\u001b[0m\u001b[1;33m:\u001b[0m\u001b[1;33m\u001b[0m\u001b[0m\n\u001b[0;32m   4117\u001b[0m                 \u001b[0mindexer\u001b[0m \u001b[1;33m=\u001b[0m \u001b[0mnp\u001b[0m\u001b[1;33m.\u001b[0m\u001b[0marange\u001b[0m\u001b[1;33m(\u001b[0m\u001b[0mlen\u001b[0m\u001b[1;33m(\u001b[0m\u001b[0mself\u001b[0m\u001b[1;33m.\u001b[0m\u001b[0mitems\u001b[0m\u001b[1;33m)\u001b[0m\u001b[1;33m)\u001b[0m\u001b[1;33m[\u001b[0m\u001b[0misna\u001b[0m\u001b[1;33m(\u001b[0m\u001b[0mself\u001b[0m\u001b[1;33m.\u001b[0m\u001b[0mitems\u001b[0m\u001b[1;33m)\u001b[0m\u001b[1;33m]\u001b[0m\u001b[1;33m\u001b[0m\u001b[0m\n",
      "\u001b[1;32m~\\Anaconda3\\lib\\site-packages\\pandas\\core\\indexes\\base.py\u001b[0m in \u001b[0;36mget_loc\u001b[1;34m(self, key, method, tolerance)\u001b[0m\n\u001b[0;32m   3078\u001b[0m                 \u001b[1;32mreturn\u001b[0m \u001b[0mself\u001b[0m\u001b[1;33m.\u001b[0m\u001b[0m_engine\u001b[0m\u001b[1;33m.\u001b[0m\u001b[0mget_loc\u001b[0m\u001b[1;33m(\u001b[0m\u001b[0mkey\u001b[0m\u001b[1;33m)\u001b[0m\u001b[1;33m\u001b[0m\u001b[0m\n\u001b[0;32m   3079\u001b[0m             \u001b[1;32mexcept\u001b[0m \u001b[0mKeyError\u001b[0m\u001b[1;33m:\u001b[0m\u001b[1;33m\u001b[0m\u001b[0m\n\u001b[1;32m-> 3080\u001b[1;33m                 \u001b[1;32mreturn\u001b[0m \u001b[0mself\u001b[0m\u001b[1;33m.\u001b[0m\u001b[0m_engine\u001b[0m\u001b[1;33m.\u001b[0m\u001b[0mget_loc\u001b[0m\u001b[1;33m(\u001b[0m\u001b[0mself\u001b[0m\u001b[1;33m.\u001b[0m\u001b[0m_maybe_cast_indexer\u001b[0m\u001b[1;33m(\u001b[0m\u001b[0mkey\u001b[0m\u001b[1;33m)\u001b[0m\u001b[1;33m)\u001b[0m\u001b[1;33m\u001b[0m\u001b[0m\n\u001b[0m\u001b[0;32m   3081\u001b[0m \u001b[1;33m\u001b[0m\u001b[0m\n\u001b[0;32m   3082\u001b[0m         \u001b[0mindexer\u001b[0m \u001b[1;33m=\u001b[0m \u001b[0mself\u001b[0m\u001b[1;33m.\u001b[0m\u001b[0mget_indexer\u001b[0m\u001b[1;33m(\u001b[0m\u001b[1;33m[\u001b[0m\u001b[0mkey\u001b[0m\u001b[1;33m]\u001b[0m\u001b[1;33m,\u001b[0m \u001b[0mmethod\u001b[0m\u001b[1;33m=\u001b[0m\u001b[0mmethod\u001b[0m\u001b[1;33m,\u001b[0m \u001b[0mtolerance\u001b[0m\u001b[1;33m=\u001b[0m\u001b[0mtolerance\u001b[0m\u001b[1;33m)\u001b[0m\u001b[1;33m\u001b[0m\u001b[0m\n",
      "\u001b[1;32mpandas\\_libs\\index.pyx\u001b[0m in \u001b[0;36mpandas._libs.index.IndexEngine.get_loc\u001b[1;34m()\u001b[0m\n",
      "\u001b[1;32mpandas\\_libs\\index.pyx\u001b[0m in \u001b[0;36mpandas._libs.index.IndexEngine.get_loc\u001b[1;34m()\u001b[0m\n",
      "\u001b[1;32mpandas\\_libs\\hashtable_class_helper.pxi\u001b[0m in \u001b[0;36mpandas._libs.hashtable.PyObjectHashTable.get_item\u001b[1;34m()\u001b[0m\n",
      "\u001b[1;32mpandas\\_libs\\hashtable_class_helper.pxi\u001b[0m in \u001b[0;36mpandas._libs.hashtable.PyObjectHashTable.get_item\u001b[1;34m()\u001b[0m\n",
      "\u001b[1;31mKeyError\u001b[0m: 'HasDetections'"
     ]
    }
   ],
   "source": [
    "target = train['HasDetections']\n",
    "del train['HasDetections']"
   ]
  },
  {
   "cell_type": "code",
   "execution_count": null,
   "metadata": {
    "_uuid": "6c3e329f37dc1d821af2fda13b0507778e2492f2"
   },
   "outputs": [],
   "source": [
    "\"\"\"\n",
    "eval_set = train_new.sample(frac=0.2, random_state=10)\n",
    "train_new.drop(eval_set.index, inplace=True)\n",
    "gc.collect()\n",
    "\"\"\""
   ]
  },
  {
   "cell_type": "code",
   "execution_count": null,
   "metadata": {
    "_uuid": "ea7edc5160ebbe84b680147bd6555f03541c3518"
   },
   "outputs": [],
   "source": []
  },
  {
   "cell_type": "markdown",
   "metadata": {
    "_uuid": "b91db8b5c98da4f014f1863ba7de18e241f517c6"
   },
   "source": [
    "<a id=\"3\"></a> <br>\n",
    "## 3. Training the model"
   ]
  },
  {
   "cell_type": "code",
   "execution_count": null,
   "metadata": {
    "_uuid": "56d006d366fc5c2686249887b5d1f302d4a708f5"
   },
   "outputs": [],
   "source": [
    "param = {'num_leaves': 90,\n",
    "         'min_data_in_leaf': 60, \n",
    "         'objective':'binary',\n",
    "         'max_depth': -1,\n",
    "         'learning_rate': 0.12,\n",
    "         \"boosting\": \"gbdt\",\n",
    "         \"feature_fraction\": 0.4,\n",
    "         \"bagging_freq\": 1,\n",
    "         \"bagging_fraction\": 0.8 ,\n",
    "         \"bagging_seed\": 11,\n",
    "         \"metric\": 'auc',\n",
    "         \"lambda_l1\": 0.25,\n",
    "         \"random_state\": 133,\n",
    "         'max_bin': 511,\n",
    "         \"verbosity\": -1}"
   ]
  },
  {
   "cell_type": "code",
   "execution_count": null,
   "metadata": {
    "_uuid": "376bc968702e57d063b324c5028a70801f87724d"
   },
   "outputs": [],
   "source": [
    "\"\"\"\n",
    "features = [c for c in train_new.columns if c not in ['MachineIdentifier']]\n",
    "trn_data = lgb.Dataset(train_new[features],\n",
    "                           label=target.iloc[train_new.index],\n",
    "                           categorical_feature = train_categorical_columns\n",
    "                          )\n",
    "val_data = lgb.Dataset(eval_set[features],\n",
    "                           label=target.iloc[eval_set.index],\n",
    "                           categorical_feature = train_categorical_columns\n",
    "                          )\n",
    "\n",
    "num_round = 10000\n",
    "clf = lgb.train(param,\n",
    "                    trn_data,\n",
    "                    num_round,\n",
    "                    valid_sets = [trn_data, val_data],\n",
    "                    verbose_eval=100,\n",
    "                    early_stopping_rounds = 200)\n",
    "preds = clf.predict(eval_set[features], num_iteration=clf.best_iteration)    \n",
    "auc_score = metrics.roc_auc_score(target.iloc[eval_set.index], preds)\n",
    "print(\"AUC score: {:<8.5f}\".format(auc_score))\n",
    "\"\"\""
   ]
  },
  {
   "cell_type": "markdown",
   "metadata": {
    "_uuid": "7ab8ef627687c7602b81a9ac83f90ff3a2094d0c"
   },
   "source": [
    "We set the max number of iteration over folds:"
   ]
  },
  {
   "cell_type": "code",
   "execution_count": null,
   "metadata": {
    "_uuid": "9f306e20ae748715da17a2f15702ea1aa4d81497"
   },
   "outputs": [],
   "source": [
    "max_iter = 5"
   ]
  },
  {
   "cell_type": "code",
   "execution_count": null,
   "metadata": {
    "_uuid": "f2f01a6006dcb34ffb53ca33a055e592ee9e75e1"
   },
   "outputs": [],
   "source": [
    "gc.collect()"
   ]
  },
  {
   "cell_type": "code",
   "execution_count": 25,
   "metadata": {
    "_uuid": "25c2d54814080b7b4a2ae43e935c3bbe81dea185"
   },
   "outputs": [],
   "source": [
    "def model_training(train_categorical_columns):\n",
    "    folds = KFold(n_splits=5, shuffle=True, random_state=15)\n",
    "    oof = np.zeros(len(train))\n",
    "    train_categorical_columns = [c for c in train_categorical_columns if c not in ['MachineIdentifier']]\n",
    "    features = [c for c in train.columns if c not in ['MachineIdentifier']]\n",
    "    folds_clfs = list()\n",
    "    score = [0 for _ in range(folds.n_splits)]\n",
    "    for fold_, (trn_idx, val_idx) in enumerate(folds.split(train.values, target.values)):\n",
    "        print(\"fold n°{}\".format(fold_))\n",
    "        trn_data = lgb.Dataset(train.iloc[trn_idx][features],\n",
    "                           label=target.iloc[trn_idx],\n",
    "                           categorical_feature = train_categorical_columns\n",
    "                          )\n",
    "        val_data = lgb.Dataset(train.iloc[val_idx][features],\n",
    "                           label=target.iloc[val_idx],\n",
    "                           categorical_feature = train_categorical_columns\n",
    "                          )\n",
    "\n",
    "        num_round = 10000\n",
    "        clf = lgb.train(param,\n",
    "                    trn_data,\n",
    "                    num_round,\n",
    "                    valid_sets = [trn_data, val_data],\n",
    "                    verbose_eval=50,\n",
    "                    early_stopping_rounds = 100)\n",
    "        folds_clfs.append(clf)\n",
    "        oof[val_idx] = clf.predict(train.iloc[val_idx][features], num_iteration=clf.best_iteration)\n",
    "        score[fold_] = metrics.roc_auc_score(target.iloc[val_idx], oof[val_idx])\n",
    "        if fold_ == max_iter - 1: break\n",
    "    \n",
    "    if (folds.n_splits == max_iter):\n",
    "        cv_score = metrics.roc_auc_score(target, oof)\n",
    "        print(\"CV score: {:<8.5f}\".format(cv_score))\n",
    "    else:\n",
    "        cv_score = sum(score) / max_iter\n",
    "        print(\"CV score: {:<8.5f}\".format(cv_score))\n",
    "    return cv_score, folds_clfs\n"
   ]
  },
  {
   "cell_type": "code",
   "execution_count": null,
   "metadata": {
    "_uuid": "2a7338e0def5721047b16cd0520cfe4b45ee0207"
   },
   "outputs": [],
   "source": [
    "best_score = 0"
   ]
  },
  {
   "cell_type": "code",
   "execution_count": null,
   "metadata": {
    "_uuid": "25a5cdcbc2f4d6e0633eeb6a3728dc0d1a810e8a"
   },
   "outputs": [],
   "source": [
    "len(train.columns)"
   ]
  },
  {
   "cell_type": "code",
   "execution_count": null,
   "metadata": {
    "_uuid": "580fdf5076852ba92f585b753e72d731cda4f2b3"
   },
   "outputs": [],
   "source": [
    "#for col in categorical_columns:\n",
    "    #train[col+\"_count\"] = train.groupby(col)[col].transform('count')\n",
    "#    del train[col+\"_count\"]"
   ]
  },
  {
   "cell_type": "code",
   "execution_count": null,
   "metadata": {
    "_uuid": "1fab75079578461a8baaee470f6840e8c5dd33af"
   },
   "outputs": [],
   "source": [
    "%%time\n",
    "cv_score, clfs = model_training(train_categorical_columns)\n",
    "if(cv_score>best_score):\n",
    "    print(\"CV score improved by {}\".format(cv_score - best_score))\n",
    "    best_score = cv_score\n",
    "    best_params = param\n",
    "else:\n",
    "    print(\"CV score decreased by {}\".format(cv_score - best_score))\n",
    "    "
   ]
  },
  {
   "cell_type": "code",
   "execution_count": null,
   "metadata": {
    "_uuid": "5b4051ebc692c8efbddd6b17c2b4dcbb5c932480"
   },
   "outputs": [],
   "source": [
    "#best_score = cv_score\n",
    "#print(best_score)"
   ]
  },
  {
   "cell_type": "code",
   "execution_count": null,
   "metadata": {
    "_uuid": "774b57e00475ce0b71848ee3937c3c4999c38273"
   },
   "outputs": [],
   "source": [
    "\"\"\"\n",
    "%%time\n",
    "for col in categorical_columns:\n",
    "    train[col+\"_count\"] = train.groupby(col)[col].transform('count')\n",
    "    cv_score, clfs = model_training(train_categorical_columns)\n",
    "    print(\"CV score changed by {} = {}\".format(col, cv_score-best_score))\n",
    "    del train[col+\"_count\"]\n",
    "    \"\"\""
   ]
  },
  {
   "cell_type": "code",
   "execution_count": null,
   "metadata": {
    "_uuid": "268beff3e7daabbe3e4837202cfc5462a6726b1a"
   },
   "outputs": [],
   "source": [
    "\"\"\"\n",
    "%%time\n",
    "added_features = list()\n",
    "for i, col in enumerate(categorical_columns):\n",
    "    print(\"feature # {}/{}\".format(i+1, len(categorical_columns)))\n",
    "    train[col+\"_count\"] = train.groupby(col)[col].transform('count')\n",
    "    cv_score, clfs = model_training(train_categorical_columns)\n",
    "    if(cv_score > best_score):\n",
    "        print(\"CV score improved by {} = {}\".format(col, cv_score-best_score))\n",
    "        added_features.append(col)\n",
    "        best_score = cv_score\n",
    "    else:\n",
    "        print(\"{} was not useful\".format(col))\n",
    "        del train[col+\"_count\"]\n",
    "        \"\"\""
   ]
  },
  {
   "cell_type": "markdown",
   "metadata": {
    "_uuid": "15075259e27c5180c8e650ac9c9bc06f8ca2239b"
   },
   "source": [
    "<a id=\"4\"></a> <br>\n",
    "## 4. Feature importance"
   ]
  },
  {
   "cell_type": "code",
   "execution_count": null,
   "metadata": {
    "_uuid": "8b814f54b6ee5665fcadaa4b1a1bd28282fc2390",
    "scrolled": false
   },
   "outputs": [],
   "source": [
    "def get_feature_imp(clfs, features, top_number = 1000):\n",
    "    feature_importance_df = pd.DataFrame()\n",
    "    for i, clf in enumerate(clfs, 1):\n",
    "        fold_importance_df = pd.DataFrame()\n",
    "        fold_importance_df[\"feature\"] = features\n",
    "        fold_importance_df[\"importance\"] = clf.feature_importance(importance_type='gain')\n",
    "        fold_importance_df[\"fold\"] = i+1\n",
    "    feature_importance_df = pd.concat([feature_importance_df, \n",
    "                                           fold_importance_df], axis=0)\n",
    "        \n",
    "    cols = (feature_importance_df[[\"feature\", \"importance\"]].groupby(\"feature\").mean()\n",
    "        .sort_values(by=\"importance\", ascending=False)[:top_number].index)\n",
    "\n",
    "    best_features = feature_importance_df.loc[feature_importance_df.feature.isin(cols)]\n",
    "    best_features = best_features[[\"feature\", \"importance\"]].groupby('feature').mean().reset_index()\n",
    "    best_features.sort_values(by='importance', inplace=True, ascending=False)\n",
    "\n",
    "    trace = go.Bar(y=list(best_features.sort_values(by='importance', ascending=True).feature),\n",
    "                   x=list(best_features.sort_values(by='importance', ascending=True).importance),\n",
    "                   orientation='h', marker=dict(color='gold'), name='train')\n",
    "    layout = go.Layout(\n",
    "    title='LightGBM Features Importances(avg over folds)', height=1600, width=800,\n",
    "    xaxis=dict(\n",
    "        title='Importance',\n",
    "        titlefont=dict(size=16, color='rgb(107, 107, 107)'),\n",
    "        domain=[0.25, 1]),\n",
    "    barmode='group',\n",
    "    bargap=0.1,\n",
    "    bargroupgap=0.1)\n",
    "    fig = go.Figure(data=[trace], layout=layout)\n",
    "    iplot(fig)\n",
    "    return best_features.sort_values(by='importance', ascending=False)"
   ]
  },
  {
   "cell_type": "code",
   "execution_count": null,
   "metadata": {
    "_uuid": "e2050ab18c25cfc3d9018996e9d2faffe85889fc"
   },
   "outputs": [],
   "source": [
    "features = [c for c in train.columns if c not in ['MachineIdentifier']]\n",
    "feature_imps = get_feature_imp(clfs, features, 100)"
   ]
  },
  {
   "cell_type": "code",
   "execution_count": null,
   "metadata": {
    "_uuid": "57d9b50bae07e9c4863e3c0dc9f9b2740ee31b14",
    "scrolled": true
   },
   "outputs": [],
   "source": [
    "#features = list(feature_imps[feature_imps['importance'] != 0].feature)"
   ]
  },
  {
   "cell_type": "markdown",
   "metadata": {
    "_uuid": "b7e43ff58200b644ef0f5af87bc2bee40df4e92f"
   },
   "source": [
    "### Deleting Train File for freeing up RAM for the Test File"
   ]
  },
  {
   "cell_type": "code",
   "execution_count": null,
   "metadata": {
    "_uuid": "c48a00a9f398f772605303bdef3306311ba6688b"
   },
   "outputs": [],
   "source": [
    "del train\n",
    "gc.collect()"
   ]
  },
  {
   "cell_type": "markdown",
   "metadata": {
    "_uuid": "08a4c881ae24d784e9ee3c197d1188e26fdb40c7"
   },
   "source": [
    "<a id=\"5\"></a> <br>\n",
    "## 5. Submission"
   ]
  },
  {
   "cell_type": "markdown",
   "metadata": {
    "_uuid": "e184c365fe908d2a71e0aa95b5207adb489a7fd9"
   },
   "source": [
    "### 5.1. Preparing Test Data"
   ]
  },
  {
   "cell_type": "code",
   "execution_count": null,
   "metadata": {
    "_uuid": "29c84981e5fe7c19eee68b431d432bf0304ac93e"
   },
   "outputs": [],
   "source": [
    "#_______________________________________________________________\n",
    "retained_columns += ['MachineIdentifier']\n",
    "retained_columns.remove('HasDetections')\n",
    "test = pd.read_csv('../input/test.csv',\n",
    "                   usecols = retained_columns,\n",
    "                   dtype = dtypes)"
   ]
  },
  {
   "cell_type": "markdown",
   "metadata": {
    "_uuid": "cab52532850bf5c5d87bb3e2bb88ea93a5640e9b"
   },
   "source": [
    "### 5.2. Feature Engineering of the Test File"
   ]
  },
  {
   "cell_type": "code",
   "execution_count": null,
   "metadata": {
    "_uuid": "6f7cf541bf85d028343a06bd5d43171c98929827"
   },
   "outputs": [],
   "source": [
    "for variable in tqdm(frequency_encoded_variables):\n",
    "    freq_enc_dict = frequency_encoding(variable, 2)\n",
    "    test[variable] = test[variable].map(lambda x: freq_enc_dict.get(x, np.nan))\n",
    "    test_categorical_columns.remove(variable)\n",
    "#---------------------------------------------\n",
    "#for col in tqdm(test_categorical_columns):\n",
    "#    if col == 'MachineIdentifier': continue\n",
    "#    test[col] = pd.factorize(test[col], sort=True)[0].astype('int32')\n",
    "for col in tqdm(test_categorical_columns):\n",
    "    if col == 'MachineIdentifier': continue\n",
    "    test[col] = pd.factorize(test[col], sort=True)[0].astype('int32')\n",
    "#-----------------------------------------------\n",
    "\"\"\"\n",
    "count_cols = [\"Processor\", \"Census_PrimaryDiskTypeName\", \"Census_OSArchitecture\", \n",
    "             \"Census_OSInstallTypeName\", \"Census_OSWUAutoUpdateOptionsName\",\n",
    "             \"AVProductsInstalled\", \"AVProductsEnabled\"]\n",
    "for col in count_cols:\n",
    "    test[col+\"_count\"] = test.groupby(col)[col].transform('count')\n",
    "\"\"\""
   ]
  },
  {
   "cell_type": "markdown",
   "metadata": {
    "_uuid": "d00a9d15bd3d2736a8c631428c57470707b74bb4"
   },
   "source": [
    "### 5.4. Reducing Memory Usage of the Test File"
   ]
  },
  {
   "cell_type": "code",
   "execution_count": null,
   "metadata": {
    "_uuid": "be7c65fe16e04788b50cfed7b90f0d68d39541ba"
   },
   "outputs": [],
   "source": [
    "test = reduce_mem_usage(test)"
   ]
  },
  {
   "cell_type": "markdown",
   "metadata": {
    "_uuid": "0bf0c65b8dd5a5da7fed58a9173eb82ef85c74c0"
   },
   "source": [
    "### 5.5. Saving the Submission File"
   ]
  },
  {
   "cell_type": "code",
   "execution_count": null,
   "metadata": {
    "_uuid": "45f1f83ad42c2aafc8784c9be6703821e722ffa5"
   },
   "outputs": [],
   "source": [
    "# when not using CV\n",
    "#clfs = clf\n",
    "len(clfs)"
   ]
  },
  {
   "cell_type": "code",
   "execution_count": null,
   "metadata": {
    "_uuid": "5122b80924f183fd483a8c6b3d460e2bd79887e3"
   },
   "outputs": [],
   "source": [
    "predictions = np.zeros(len(test))\n",
    "initial_idx = 0\n",
    "chunk_size = 1000000\n",
    "current_pred = np.zeros(len(test))\n",
    "for i, clf in enumerate(clfs, 1):\n",
    "    print(\"Stage#{}\".format(i))\n",
    "    initial_idx = 0\n",
    "    while initial_idx < test.shape[0]:\n",
    "        final_idx = min(initial_idx + chunk_size, test.shape[0])\n",
    "        idx = range(initial_idx, final_idx)\n",
    "        current_pred[idx] = clf.predict(test.iloc[idx][features], num_iteration=clf.best_iteration)\n",
    "        initial_idx = final_idx\n",
    "    predictions += current_pred / len(clfs)"
   ]
  },
  {
   "cell_type": "code",
   "execution_count": null,
   "metadata": {
    "_uuid": "1fe8a68970387c8e57d373b4d0944731a32ccd51"
   },
   "outputs": [],
   "source": [
    "sub_df = pd.DataFrame({\"MachineIdentifier\": test[\"MachineIdentifier\"].values})\n",
    "sub_df[\"HasDetections\"] = predictions\n",
    "sub_df[:10]"
   ]
  },
  {
   "cell_type": "code",
   "execution_count": null,
   "metadata": {
    "_uuid": "65cd74398d3f80186d65a2ff3431403a6846e229"
   },
   "outputs": [],
   "source": [
    "sub_df.to_csv(\"submit10.csv\", index=False)"
   ]
  },
  {
   "cell_type": "code",
   "execution_count": null,
   "metadata": {
    "_uuid": "f49a6ae2de87096b30d77418b80e96136fc1ecb4"
   },
   "outputs": [],
   "source": []
  },
  {
   "cell_type": "code",
   "execution_count": null,
   "metadata": {
    "_uuid": "0d00244117167f3cf1fb22574d060ac8c5603349"
   },
   "outputs": [],
   "source": []
  },
  {
   "cell_type": "code",
   "execution_count": null,
   "metadata": {
    "_uuid": "e21b47118504e87f9b1bbd88ee7bb5b81aa4ea1c"
   },
   "outputs": [],
   "source": []
  }
 ],
 "metadata": {
  "kernelspec": {
   "display_name": "Python 3",
   "language": "python",
   "name": "python3"
  },
  "language_info": {
   "codemirror_mode": {
    "name": "ipython",
    "version": 3
   },
   "file_extension": ".py",
   "mimetype": "text/x-python",
   "name": "python",
   "nbconvert_exporter": "python",
   "pygments_lexer": "ipython3",
   "version": "3.7.0"
  }
 },
 "nbformat": 4,
 "nbformat_minor": 1
}
